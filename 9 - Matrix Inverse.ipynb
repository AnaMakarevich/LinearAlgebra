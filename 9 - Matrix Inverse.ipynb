{
 "cells": [
  {
   "cell_type": "markdown",
   "metadata": {},
   "source": [
    "# Matrix Determinant"
   ]
  },
  {
   "cell_type": "markdown",
   "metadata": {},
   "source": [
    "**Sections 1, 3-n:**\n",
    "\n",
    "This text and code is derived from Mike X Cohen's course on linear algebra. For more information, see https://www.udemy.com/linear-algebra-theory-and-implementation/?couponCode=LINALGPX7\n",
    "\n",
    "**Section 2**:\n",
    "Written by me"
   ]
  },
  {
   "cell_type": "markdown",
   "metadata": {},
   "source": [
    "## 1 Key Concepts"
   ]
  },
  {
   "cell_type": "markdown",
   "metadata": {},
   "source": [
    "An inverse matrix of matrix $\\mathbf{A}$ is a matrix $\\mathbf{B}$ such that: \n",
    "\n",
    "$$A A^{-1} = A^{-1} A = I$$"
   ]
  },
  {
   "cell_type": "markdown",
   "metadata": {},
   "source": [
    "A matrix is invertible if it is: \n",
    "- square  \n",
    "- full-rank "
   ]
  },
  {
   "cell_type": "markdown",
   "metadata": {},
   "source": [
    "Matrix inverst is side-dependent. I.e., it DOES matter on which side you put the inverse - whether you're left-multiplying or right multiplying: \n",
    "\n",
    "Left: \n",
    "\n",
    "$$A^{-1} A B = A^{-1} C$$\n",
    "\n",
    "Right: \n",
    "\n",
    "$$A B B^{-1} = C B^{-1}$$"
   ]
  },
  {
   "cell_type": "markdown",
   "metadata": {},
   "source": [
    "The inverse follows the LIVE EVIL rule: \n",
    "$$(A B C)^{-1} = C^{-1} B^{-1} A^{-1}$$"
   ]
  },
  {
   "cell_type": "markdown",
   "metadata": {},
   "source": [
    "## 2 Analytical solution "
   ]
  },
  {
   "cell_type": "markdown",
   "metadata": {},
   "source": [
    "The analytical solution requires the following steps: \n",
    "\n",
    "1. Compute cofactors matrix and take it's transpose\n",
    "3. Divide each element by the determinant "
   ]
  },
  {
   "cell_type": "markdown",
   "metadata": {},
   "source": [
    "### 1. Cofactors Matrix and Adjugate Matrix\n",
    "An element of the **matrix of cofactors** $\\mathbf{C}$ can be computed as follows: \n",
    "\n",
    "$$c_{ij} = (-1)^{i+j} \\mathbf{M_{ij}}$$,\n",
    "\n",
    "where $\\mathbf{M_{ij}}$ is the (i,j)-minor of $\\mathbf{A}$. A minor can be found by removing i-th row and j-th column and calculating the determinant of what's left. \n",
    "\n",
    "Then we need to transpose the resulting matrix of cofactors. $\\mathbf{C}^T$ is called the **adjugate** matrix. \n",
    "\n",
    "**Example**\n",
    "\n",
    "\n",
    "$$\\mathbf{A} = {\\begin{bmatrix}\n",
    "\\boxed{a_{11}}&\\boxed{a_{12}}&\\boxed{a_{13}}\\\\\n",
    "a_{21}&\\boxed{a_{22}}&a_{23}\\\\\n",
    "a_{31}&\\boxed{a_{32}}&a_{33}\\\\\n",
    "\\end{bmatrix}}, \\mathbf{M_{12}} = {\\begin{bmatrix}\n",
    "a_{21}&a_{23}\\\\\n",
    "a_{31}&a_{33}\\\\\n",
    "\\end{bmatrix}}$$\n",
    "\n",
    "So, the co-factor $c_{12}$ will be: \n",
    "$$c_{12} = (-1)^{1+2} \\det(\\mathbf{M_{12}}) = -(a_{21} a_{33} - a_{23} a_{31})$$"
   ]
  },
  {
   "cell_type": "markdown",
   "metadata": {},
   "source": [
    "### 2. Divide by determinant \n",
    "To get the inverse, we finally divide each element of the adjugate matrix by the determinant: \n",
    "\n",
    "$$\\mathbf{A}^{-1} = \\frac{1}{\\det(\\mathbf{A})} \\mathbf{C}^T$$"
   ]
  },
  {
   "cell_type": "markdown",
   "metadata": {},
   "source": [
    "## 3 Inverse with RREF"
   ]
  },
  {
   "cell_type": "markdown",
   "metadata": {},
   "source": [
    "A much easier (and more computationally efficient) method to compute the inverse is to augment the initial matrix with the identity matrix of the same size and reduce it to RREF: \n",
    "\n",
    "$$\\text{rref} ((\\mathbf{A | I})) \\implies (\\mathbf{I | A^{-1}}) $$"
   ]
  },
  {
   "cell_type": "markdown",
   "metadata": {},
   "source": [
    "If we don't get the identity matrix as the result in the left part, it means that the matrix is singular. "
   ]
  },
  {
   "cell_type": "markdown",
   "metadata": {},
   "source": [
    "**Example** \n",
    "$$\n",
    "\\begin{align*}\n",
    "\\left[\\begin{array}{rrr|rrr}\n",
    "    1 & 2 & 3 & 1 & 0 & 0 \\\\\n",
    "    1 & 3 & 4 & 0 & 1 & 0\\\\\n",
    "    1 & 2 & 5 & 0 & 0 & 1\\\\\n",
    "  \\end{array}\\right] \n",
    "  \\rightarrow  \n",
    "\\left[\\begin{array}{rrr|rrr}\n",
    "    1 & 2 & 3 & 1 & 0 & 0 \\\\\n",
    "    0 & 1 & 1 & -1 & 1 & 0\\\\\n",
    "    0 & 0 & 2 & -1 & 0 & 1\\\\\n",
    "  \\end{array}\\right]     \n",
    "  \\rightarrow  \n",
    "\\left[\\begin{array}{rrr|rrr}\n",
    "    1 & 2 & 3 & 1 & 0 & 0 \\\\\n",
    "    0 & 1 & 1 & -1 & 1 & 0\\\\\n",
    "    0 & 0 & 1 & -0.5 & 0 & 0.5\\\\\n",
    "  \\end{array}\\right]       \n",
    "    \\rightarrow \\\\    \n",
    "\\left[\\begin{array}{rrr|rrr}\n",
    "    1 & 2 & 3 & 1 & 0 & 0 \\\\\n",
    "    0 & 1 & 0 & -0.5 & 1 & -0.5\\\\\n",
    "    0 & 0 & 1 & -0.5 & 0 & 0.5\\\\\n",
    "  \\end{array}\\right]      \n",
    "    \\rightarrow    \n",
    "\\left[\\begin{array}{rrr|rrr}\n",
    "    1 & 0 & 3 & 2 & -2 & 1 \\\\\n",
    "    0 & 1 & 0 & -0.5 & 1 & -0.5\\\\\n",
    "    0 & 0 & 1 & -0.5 & 0 & 0.5\\\\\n",
    "  \\end{array}\\right]    \n",
    "    \\rightarrow    \n",
    "\\left[\\begin{array}{rrr|rrr}\n",
    "    1 & 0 & 0 & 3.5 & -2 & -0.5 \\\\\n",
    "    0 & 1 & 0 & -0.5 & 1 & -0.5\\\\\n",
    "    0 & 0 & 1 & -0.5 & 0 & 0.5\\\\\n",
    "  \\end{array}\\right]    \n",
    "\\end{align*} \n",
    "  $$\n"
   ]
  },
  {
   "cell_type": "markdown",
   "metadata": {},
   "source": [
    "Check: "
   ]
  },
  {
   "cell_type": "code",
   "execution_count": 43,
   "metadata": {},
   "outputs": [],
   "source": [
    "A = np.array([[1,2,3],[1,3,4],[1,2,5]])\n",
    "Ainv = np.array([[3.5, -2, -0.5],[-0.5,1,-0.5],[-0.5,0,0.5]])"
   ]
  },
  {
   "cell_type": "code",
   "execution_count": 44,
   "metadata": {},
   "outputs": [
    {
     "data": {
      "text/plain": [
       "array([[1., 0., 0.],\n",
       "       [0., 1., 0.],\n",
       "       [0., 0., 1.]])"
      ]
     },
     "execution_count": 44,
     "metadata": {},
     "output_type": "execute_result"
    }
   ],
   "source": [
    "np.dot(A,Ainv)"
   ]
  },
  {
   "cell_type": "markdown",
   "metadata": {},
   "source": [
    "**Explanation** of why RREF works: \n",
    "\n",
    "One of the ways to solve for x in $\\mathbf{A x = b}$ is to use RREF: \n",
    "\n",
    "$$\\text{rref} \\mathbf{((A|b))} = \\mathbf{(I|x)}$$"
   ]
  },
  {
   "cell_type": "markdown",
   "metadata": {},
   "source": [
    "So we can rewrite the problem of finding the inverse as follows (shown on 3x3 example):\n",
    "\n",
    "$$\\begin{cases}\n",
    "\\mathbf{A x_1} = \\begin{bmatrix}\n",
    "    1\\\\\n",
    "    0\\\\\n",
    "    0\\\\\n",
    "  \\end{bmatrix} \\implies \\text{rref} \\mathbf{((A|e_1))} = \\mathbf{(I|x_1)}\\\\\n",
    "\\mathbf{A x_2} = \\begin{bmatrix}\n",
    "    1\\\\\n",
    "    0\\\\\n",
    "    0\\\\\n",
    "  \\end{bmatrix} \\implies \\text{rref} \\mathbf{((A|e_2))} = \\mathbf{(I|x_2)}\\\\\n",
    "\\mathbf{A x_1} = \\begin{bmatrix}\n",
    "    1\\\\\n",
    "    0\\\\\n",
    "    0\\\\\n",
    "  \\end{bmatrix} \\implies \\text{rref} \\mathbf{((A|e_3))} = \\mathbf{(I|x_3)} \n",
    "  \\end{cases}$$"
   ]
  },
  {
   "cell_type": "markdown",
   "metadata": {},
   "source": [
    "Or: \n",
    "$$\\mathbf{A X} = \\begin{bmatrix}\n",
    "    1 & 0 & 0\\\\\n",
    "    0 & 1 & 0\\\\\n",
    "    0 & 0 & 1\\\\\n",
    "  \\end{bmatrix}$$"
   ]
  },
  {
   "cell_type": "markdown",
   "metadata": {},
   "source": [
    "## 4 Left Inverse and Right Inverse"
   ]
  },
  {
   "cell_type": "markdown",
   "metadata": {},
   "source": [
    "Although it's been said that only square matrices can have an inverse, some rectangular matrices actually also might have an inverse, althouhg it's a one-sided inverse - left or right. "
   ]
  },
  {
   "cell_type": "markdown",
   "metadata": {},
   "source": [
    "### Case: tall matrix, M > N \n",
    "Let's say we have $\\mathbf{A} \\in \\mathbb{R}^{M \\times N}$\n",
    "\n",
    "$\\mathbf{A}$ is not square, but $\\mathbf{A^T A}$ is! So we can have an inverse of that: \n",
    "\n",
    "$$(\\mathbf{A^T A})^{-1}(\\mathbf{A^T A}) = \\mathbf{I}$$"
   ]
  },
  {
   "cell_type": "markdown",
   "metadata": {},
   "source": [
    "Now we can get read of the braces around $\\mathbf{A^T A}$ and everything to the left of $\\mathbf{A}$ will be it's left-inverse: \n",
    "\n",
    "$\\boxed{(\\mathbf{A^T A})^{-1}\\mathbf{A^T}} \\mathbf{A} = \\mathbf{I}$$"
   ]
  },
  {
   "cell_type": "markdown",
   "metadata": {},
   "source": [
    "Note: left-inverse exists only if $(\\mathbf{A^T A})$ is full-rank and $\\mathbf{A}$ is full-column rank. "
   ]
  },
  {
   "cell_type": "markdown",
   "metadata": {},
   "source": [
    "### Case: tall matrix, M > N "
   ]
  },
  {
   "cell_type": "markdown",
   "metadata": {},
   "source": [
    "$$(\\mathbf{A A^T})(\\mathbf{A A^T})^{-1} = \\mathbf{I}$$\n",
    "\n",
    "$$\\mathbf{A} \\boxed{\\mathbf{A^T}(\\mathbf{A A^T})^{-1}} = \\mathbf{I}$$"
   ]
  },
  {
   "cell_type": "markdown",
   "metadata": {},
   "source": [
    "Note: right-inverse exists only if $(\\mathbf{A A^T})$ is full-rank and $\\mathbf{A}$ is full-row rank. "
   ]
  },
  {
   "cell_type": "markdown",
   "metadata": {},
   "source": [
    "## Uniqueness of the Inverse: Proof"
   ]
  },
  {
   "cell_type": "markdown",
   "metadata": {},
   "source": [
    "Let's say $\\mathbf{A}$ is an invertible matrix and $\\mathbf{C}$ and $\\mathbf{B}$ are two distinct inverses of $\\mathbf{A}$, $\\mathbf{B \\neq C}$. \n",
    "\n",
    "**Proof 1**: Proof by contraction  \n",
    "\n",
    "By definition:  \n",
    "\n",
    "$\\mathbf{A B = I}$\n",
    "\n",
    "$\\mathbf{A C = I}$\n",
    "\n",
    "Let's multiply both sides of both equations by $\\mathbf{A}^{-1}$: \n",
    "\n",
    "$\\mathbf{A^{-1} A B = A^{-1} I} \\implies \\mathbf{B = A^{-1}}$  \n",
    "\n",
    "$\\mathbf{A^{-1} A C = A^{-1} I} \\implies \\mathbf{C = A^{-1}}$\n",
    "\n",
    "$\\implies \\mathbf{B = C}$, which contradicts with $\\mathbf{B \\neq C}$."
   ]
  },
  {
   "cell_type": "markdown",
   "metadata": {},
   "source": [
    "**Proof 2** \n",
    "\n",
    "We can represent $\\mathbf{C}$ as: \n",
    "\n",
    "$\\mathbf{C = CI}$\n",
    "\n",
    "At the same time we know that: $\\mathbf{I = AB}$, so we can substitute: $\\mathbf{C = CAB}$. But it's also true that $\\mathbf{CA = I}$, so we again substitute: $\\mathbf{C = IB = B}$ \n",
    "$\\implies \\mathbf{A = B}$ "
   ]
  },
  {
   "cell_type": "markdown",
   "metadata": {},
   "source": [
    "## Pseudoinverse: Introduction \n",
    "\n",
    "Notation: $\\mathbf{A^{*}, A^{\\dagger}}$"
   ]
  },
  {
   "cell_type": "markdown",
   "metadata": {},
   "source": [
    "Difference from the true inverse: \n",
    "\n",
    "- $\\mathbf{A A^{\\dagger} \\neq I}$  \n",
    "- $\\mathbf{A A^{\\dagger} \\neq A^{\\dagger} A}$  \n",
    "\n",
    "There are different methods to compute the pseudoinverse. The most know is Moore-Penrose pseudoinverse. \n",
    "\n",
    "We can also compress rank-deficient matrix to a size where it has a true inverse (for example, with PCA) and them project back to the full space. "
   ]
  }
 ],
 "metadata": {
  "kernelspec": {
   "display_name": "Python [conda env:DAND]",
   "language": "python",
   "name": "conda-env-DAND-py"
  },
  "language_info": {
   "codemirror_mode": {
    "name": "ipython",
    "version": 3
   },
   "file_extension": ".py",
   "mimetype": "text/x-python",
   "name": "python",
   "nbconvert_exporter": "python",
   "pygments_lexer": "ipython3",
   "version": "3.7.1"
  }
 },
 "nbformat": 4,
 "nbformat_minor": 2
}
