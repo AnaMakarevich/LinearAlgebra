{
 "cells": [
  {
   "cell_type": "markdown",
   "metadata": {},
   "source": [
    "# Matrix Determinant: Leibniz Formula"
   ]
  },
  {
   "cell_type": "markdown",
   "metadata": {},
   "source": [
    "*Feel free to copy, share the material, but please provide a working link to this page*"
   ]
  },
  {
   "cell_type": "markdown",
   "metadata": {},
   "source": [
    "In practices, matrics are almost always of higher dimension and so it was interesting for me to know how if there is single formula to calculate the determinant. And there was one, but it took me some time to actually read and understand it, so I decided to create a separate notebook with the detailed walkthrough for people like me. Enjoy!"
   ]
  },
  {
   "cell_type": "markdown",
   "metadata": {},
   "source": [
    "In general case for the matrix $\\mathbf{A} \\in \\mathbb{R}^{NxN}, \\mathbf{A} = [a]_N$, the determinant can be formally defined as follows (Leibniz formula): \n",
    "\n",
    "$$\\det(\\mathbf{A})=\\sum_{\\lambda}(\\text{sign}(\\lambda)\\prod_{k=1}^n a_{k \\lambda}) = \\sum_{\\lambda} \\text{sign}(\\lambda) a_{1 \\lambda(1)}a_{2 \\lambda(2)}...a_{n \\lambda(n)}$$"
   ]
  },
  {
   "cell_type": "markdown",
   "metadata": {},
   "source": [
    ", where $\\lambda$ is the permutation of $\\{1,2,...,N)$ $\\text{sign}(\\lambda)$ is the sign of the permutation. \n",
    "\n",
    "**How to read this formula?**\n",
    "\n",
    "Honestly, the formula looked super hairy to me at first sight. As well as at the second. So here are some concpets one need to know to read the formula: \n",
    "\n",
    "1) **Permutation**. Good old permutation that you learn at the university. For the ordered set of length $n$ we have $n!$ permutations. Not a rocket science. However, it's important to note here, that we permute the list of incides from 1 to N. So, it's a permutation on $\\{1,2,...,N\\}$.\n",
    "\n",
    "2) **The sign of the permutation**. Now, this is a bit more interesting. First, there is formal definition at ProofWiki - <a href=\"https://proofwiki.org/wiki/Definition:Sign_of_Permutation\">here</a>. However, it's a bit hard to apply it to our problem. Alternatively, the sign of the permutation can be determined from the number of transpositions or number of inversions (number of elements that are not in order). Even number produces 1, odd number produces -1. In other words: \n",
    "\n",
    "$$\\text{sign}(\\lambda) = (-1)^m = (-1)^{N(\\lambda)}$$,\n",
    "\n",
    "where m is the number of transpositions required for the permutation, $N(\\lambda)$ is the number of elements not in order\n",
    "\n",
    "**Example** \n",
    "\n",
    "Let's say we have an ordered set: (2,4,1,3). The permutation is (2,4,1,3). \n",
    "\n",
    "*Method 1: Number of transpositions:*\n",
    "\n",
    "* 1 <-> 4 -> (4,2,3,1)\n",
    "* 1 <-> 3 -> (4,2,1,3)\n",
    "* 2 <-> 4 -> (2,4,1,3)\n",
    "\n",
    "Hence, there are 3 transpositions, and the sign of this permutation is negative. \n",
    "\n",
    "*Method 2: Number of inversions:*  \n",
    "\n",
    "I think this method is much easier computationally and it's often suggested as homework in programming classes. We need to calculate how many elements are not in order.  \n",
    "\n",
    "* 2 is followed by 1 element smaller than 1 (namely: 1) -> + 1 to inversions\n",
    "* 4 is followed by 2 elements smaller than 4 (namely: 1,3) -> out of order -> +2 to inversions  \n",
    "* 1 is followed by 3 -> sorted \n",
    "* Total: 3 inversions\n",
    "\n"
   ]
  },
  {
   "cell_type": "markdown",
   "metadata": {},
   "source": [
    "**Worked Example**\n"
   ]
  },
  {
   "cell_type": "markdown",
   "metadata": {},
   "source": [
    "The best way to understand the formula is to apply it. So let's apply it to calculate the determinant of a 3x3 matrix. We already know the answer (see notebook 7), so we will be able to check our results easily. Let's, however, use $a_{ij}$ for matrix element. So, we're starting with the following matrix:"
   ]
  },
  {
   "cell_type": "markdown",
   "metadata": {},
   "source": [
    "$${\\begin{bmatrix}\n",
    "a_{11}&a_{12}&a_{13}\\\\\n",
    "a_{21}&a_{22}&a_{23}\\\\\n",
    "a_{31}&a_{32}&a_{33}\\\\\n",
    "\\end{bmatrix}}$$"
   ]
  },
  {
   "cell_type": "markdown",
   "metadata": {},
   "source": [
    "Now, let's build a table to show all the possible permutation of the list of column indices and the number of inverses. "
   ]
  },
  {
   "cell_type": "markdown",
   "metadata": {},
   "source": [
    " <table>\n",
    "    <thead>\n",
    "      <tr>\n",
    "        <th>Permutation ID</th>\n",
    "        <th>Permutation</th>\n",
    "        <th>Permutation Vector</th>\n",
    "        <th>Total Permutations</th>  \n",
    "        <th>Sign</th>                    \n",
    "      </tr>\n",
    "    </thead>\n",
    "    <tbody>\n",
    "      <tr>\n",
    "        <td>1</td>\n",
    "        <td>123</td>\n",
    "        <td>000</td>\n",
    "        <td>0</td>  \n",
    "        <td>+</td>\n",
    "      </tr>\n",
    "      <tr>\n",
    "        <td>2</td>\n",
    "        <td>132</td>\n",
    "        <td>010</td>\n",
    "        <td>1</td>  \n",
    "        <td>-</td> \n",
    "      </tr>\n",
    "      <tr>\n",
    "        <td>3</td>\n",
    "        <td>213</td>\n",
    "        <td>100</td>\n",
    "        <td>1</td>  \n",
    "        <td>-</td>\n",
    "      </tr>\n",
    "      <tr>\n",
    "        <td>4</td>\n",
    "        <td>231</td>\n",
    "        <td>110</td>\n",
    "        <td>2</td>  \n",
    "        <td>+</td>\n",
    "      </tr>\n",
    "      <tr>\n",
    "        <td>5</td>\n",
    "        <td>321</td>\n",
    "        <td>210</td>\n",
    "        <td>3</td>  \n",
    "        <td>-</td>\n",
    "      </tr>\n",
    "      <tr>\n",
    "        <td>6</td>\n",
    "        <td>312</td>\n",
    "        <td>200</td>\n",
    "        <td>2</td>  \n",
    "        <td>+</td> \n",
    "      </tr>        \n",
    "    </tbody>\n",
    "  </table>"
   ]
  },
  {
   "cell_type": "markdown",
   "metadata": {},
   "source": [
    "We have 3 positive and 3 negative permutations which is a good sign, we're on the right way. "
   ]
  },
  {
   "cell_type": "markdown",
   "metadata": {},
   "source": [
    "Now, let's calculate all the positive elements (permutations 1,4,6): \n",
    "\n",
    "*Permutation 1:*   \n",
    "\n",
    "$\\lambda = 123$ \n",
    "\n",
    "Substituting into the formula, the first element is: $a_{11} a_{22} a_{33}$ \n",
    "\n",
    "$${\\begin{bmatrix}\n",
    "\\boxed{a_{11}}&a_{12}&a_{13}\\\\\n",
    "a_{21}&\\boxed{a_{22}}&a_{23}\\\\\n",
    "a_{31}&a_{32}&\\boxed{a_{33}}\\\\\n",
    "\\end{bmatrix}}$$\n",
    "\n"
   ]
  },
  {
   "cell_type": "markdown",
   "metadata": {},
   "source": [
    "*Permutation 4:*  \n",
    "\n",
    "$\\lambda = 231$ \n",
    "\n",
    "Substituting into the formula, the new element is: $a_{12} a_{23} a_{31}$ \n",
    "\n",
    "$${\\begin{bmatrix}\n",
    "a_{11}&\\boxed{a_{12}}&a_{13}\\\\\n",
    "a_{21}&a_{22}&\\boxed{a_{23}}\\\\\n",
    "\\boxed{a_{31}}&a_{32}&a_{33}\\\\\n",
    "\\end{bmatrix}}$$\n"
   ]
  },
  {
   "cell_type": "markdown",
   "metadata": {},
   "source": [
    "*Permutation 6:*\n",
    "\n",
    "$\\lambda = 312$ \n",
    "\n",
    "Substituting into the formula, the new element is: $a_{13} a_{21} a_{32}$ \n",
    "\n",
    "$${\\begin{bmatrix}\n",
    "a_{11}&a_{12}&\\boxed{a_{13}}\\\\\n",
    "\\boxed{a_{21}}&a_{22}&a_{23}\\\\\n",
    "a_{31}&\\boxed{a_{32}}&a_{33}\\\\\n",
    "\\end{bmatrix}}$$\n",
    "\n"
   ]
  },
  {
   "cell_type": "markdown",
   "metadata": {},
   "source": [
    "Another good sign: all the positive elements are the products of right diagonals - as expected! Now let's do the same for negative elements."
   ]
  },
  {
   "cell_type": "markdown",
   "metadata": {},
   "source": [
    "*Permutation 2:*\n",
    "\n",
    "$\\lambda = 132$ \n",
    "\n",
    "Substituting into the formula, the new element is: $a_{11} a_{23} a_{32}$ \n",
    "\n",
    "$${\\begin{bmatrix}\n",
    "\\boxed{a_{11}}&a_{12}&a_{13}\\\\\n",
    "a_{21}&a_{22}&\\boxed{a_{23}}\\\\\n",
    "a_{31}&\\boxed{a_{32}}&a_{33}\\\\\n",
    "\\end{bmatrix}}$$"
   ]
  },
  {
   "cell_type": "markdown",
   "metadata": {},
   "source": [
    "*Permutation 3:*\n",
    "\n",
    "$\\lambda = 213$ \n",
    "\n",
    "Substituting into the formula, the new element is: $a_{12} a_{21} a_{33}$ \n",
    "\n",
    "$${\\begin{bmatrix}\n",
    "a_{11}&\\boxed{a_{12}}&a_{13}\\\\\n",
    "\\boxed{a_{21}}&a_{22}&a_{23}\\\\\n",
    "a_{31}&a_{32}&\\boxed{a_{33}}\\\\\n",
    "\\end{bmatrix}}$$"
   ]
  },
  {
   "cell_type": "markdown",
   "metadata": {},
   "source": [
    "*Permutation 5:*\n",
    "\n",
    "$\\lambda = 321$ \n",
    "\n",
    "Substituting into the formula, the new element is: $a_{13} a_{22} a_{31}$ \n",
    "\n",
    "$${\\begin{bmatrix}\n",
    "a_{11}&a_{12}&\\boxed{a_{13}}\\\\\n",
    "a_{21}&\\boxed{a_{22}}&a_{23}\\\\\n",
    "\\boxed{a_{31}}&a_{32}&a_{33}\\\\\n",
    "\\end{bmatrix}}$$"
   ]
  },
  {
   "cell_type": "markdown",
   "metadata": {},
   "source": [
    "Again, all the negative elements are left diagonals and that matches our expectations. "
   ]
  },
  {
   "cell_type": "markdown",
   "metadata": {},
   "source": [
    "So we have: \n",
    "$$\\det(\\mathbf{A}) =  a_{11} a_{22} a_{33} +  a_{12} a_{23} a_{31} + a_{13} a_{21} a_{32} - a_{11} a_{23} a_{32} - a_{12} a_{21} a_{33} - a_{13} a_{22} a_{31}$$"
   ]
  },
  {
   "cell_type": "markdown",
   "metadata": {},
   "source": [
    "**References:**\n",
    "\n",
    "1. <a href=\"https://en.wikipedia.org/wiki/Determinant#n_×_n_matrices\">Determinant(Wikipedia)</a> \n",
    "2. <a href=\"https://en.wikipedia.org/wiki/Parity_of_a_permutation\">Pairty of a permutation</a>  "
   ]
  }
 ],
 "metadata": {
  "kernelspec": {
   "display_name": "Python [conda env:DAND]",
   "language": "python",
   "name": "conda-env-DAND-py"
  },
  "language_info": {
   "codemirror_mode": {
    "name": "ipython",
    "version": 3
   },
   "file_extension": ".py",
   "mimetype": "text/x-python",
   "name": "python",
   "nbconvert_exporter": "python",
   "pygments_lexer": "ipython3",
   "version": "3.7.1"
  }
 },
 "nbformat": 4,
 "nbformat_minor": 2
}
