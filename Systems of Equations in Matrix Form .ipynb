{
 "cells": [
  {
   "cell_type": "markdown",
   "metadata": {},
   "source": [
    "# Systems of Linear Equations in Matrix Form"
   ]
  },
  {
   "cell_type": "markdown",
   "metadata": {},
   "source": [
    "This text and code is derived from Mike X Cohen's course on linear algebra. For more information, see https://www.udemy.com/linear-algebra-theory-and-implementation/?couponCode=LINALGPX7"
   ]
  },
  {
   "cell_type": "markdown",
   "metadata": {},
   "source": [
    "## Table of contents \n",
    "- [Systems of equations: algebra and geometry](#general)\n",
    "- [Converting Systems of Equations to Matrix Form](#matrixform)\n",
    "- [Gaussian Elimination](#gaussian)\n",
    "- [Echelon Form and Pivots](#echelon)  \n",
    "- [Reduced Row Echelon Form (RREF)](#rref)  \n",
    "- [Matrix Spaces After Row Reduction](#after)"
   ]
  },
  {
   "cell_type": "markdown",
   "metadata": {},
   "source": [
    "<a id=\"general\"></a>\n",
    "## Systems of equations: algebra and geometry"
   ]
  },
  {
   "cell_type": "markdown",
   "metadata": {},
   "source": [
    "**Trivial example** \n",
    "\n",
    "$$y= \\frac{x}{2} + 2$$\n",
    "\n",
    "The solution is a line. "
   ]
  },
  {
   "cell_type": "markdown",
   "metadata": {},
   "source": [
    "**Trivial example 2**\n",
    "\n",
    "\n",
    "$$\\begin{cases} y = \\frac{x}{2} + 2 \\\\ y = -x + 4 \\end{cases}$$\n",
    "\n",
    "The solution is a point where these two lines intersect. We can transform these equations as follows (subtract equation 1 from equation 2; multiply equation 1 by 2 and add to equation 1): \n",
    "\n",
    "$$\\begin{cases} 0 y = \\frac{3 x}{2} - 2 \\\\ 3y = 0 x + 6 \\end{cases}$$"
   ]
  },
  {
   "cell_type": "markdown",
   "metadata": {},
   "source": [
    "*Geometrically*, we're just chaning the lines, but the point of intersection remains at the same place! In this case we also orhtogonalized the system (it's not always the case)."
   ]
  },
  {
   "cell_type": "markdown",
   "metadata": {},
   "source": [
    "<a id=\"matrixform\"></a>\n",
    "## Converting Systems of Equations to Matrix Form"
   ]
  },
  {
   "cell_type": "markdown",
   "metadata": {},
   "source": [
    "$$\\begin{cases} \n",
    "2 x + 3 y - 4 z = 5 \\\\ \n",
    "-x + 7 y + 9 z = 7\n",
    "\\end{cases}$$\n",
    "Note: everything that is not 'attached' to a variable is considered to be a constant. \n",
    "\n",
    "The matrix form of this system will look as follows: \n",
    "\n",
    "$${\\begin{bmatrix}\n",
    "2&3&-4\\\\\n",
    "-1&7&9\\\\\n",
    "\\end{bmatrix}} {\\begin{bmatrix}\n",
    "x\\\\\n",
    "y\\\\\n",
    "z\\\\\n",
    "\\end{bmatrix}} = {\\begin{bmatrix}\n",
    "5\\\\\n",
    "7\\\\\n",
    "\\end{bmatrix}}$$"
   ]
  },
  {
   "cell_type": "markdown",
   "metadata": {},
   "source": [
    "<a id=\"gaussian\"></a>\n",
    "## Gaussian Elimination"
   ]
  },
  {
   "cell_type": "markdown",
   "metadata": {},
   "source": [
    "6 steps: \n",
    "\n",
    "\n",
    "1) Convert to matrix-vector equation  \n",
    "2) Augment the coefficients matrix with the vector of constants  \n",
    "3) Use Gaussian elimination to reduce to upper triangular matrix  \n",
    "4) Map the matrix back to the equations  \n",
    "5) Back-substitute to solve for variables  \n",
    "6) Verify  "
   ]
  },
  {
   "cell_type": "markdown",
   "metadata": {},
   "source": [
    "**Worked example**"
   ]
  },
  {
   "cell_type": "markdown",
   "metadata": {},
   "source": [
    "*Step 1*\n",
    "\n",
    "$$\\begin{cases} \n",
    "2 x + 3 y = 5 \\\\ \n",
    "-x +7 y = 7\n",
    "\\end{cases}$$\n",
    "\n",
    "$${\\begin{bmatrix}\n",
    "2&3\\\\\n",
    "-1&7\\\\\n",
    "\\end{bmatrix}} {\\begin{bmatrix}\n",
    "x\\\\\n",
    "y\\\\\n",
    "\\end{bmatrix}} = {\\begin{bmatrix}\n",
    "5\\\\\n",
    "7\\\\\n",
    "\\end{bmatrix}}$$"
   ]
  },
  {
   "cell_type": "markdown",
   "metadata": {},
   "source": [
    "*Step 2*"
   ]
  },
  {
   "cell_type": "markdown",
   "metadata": {},
   "source": [
    "$$\\left[\\begin{array}{rr|r}\n",
    "    2 & 3 & 5 \\\\\n",
    "    -1 & 7 & 7 \\\\\n",
    "  \\end{array}\\right]$$ "
   ]
  },
  {
   "cell_type": "markdown",
   "metadata": {},
   "source": [
    "*Step 3*\n",
    "\n",
    "$$\\left[\\begin{array}{rr|r}\n",
    "    2 & 3 & 5 \\\\\n",
    "    -1 & 7 & 7 \\\\\n",
    "  \\end{array}\\right] \\xrightarrow{R_1 = \\frac{1}{2} R_1}\n",
    "   \\left[\\begin{array}{rr|r}\n",
    "    1 & 3/2 & 5/2 \\\\\n",
    "    -1 & 7 & 7 \\\\\n",
    "  \\end{array}\\right] \\xrightarrow{R_2 = R_1 + R_2}\n",
    "   \\left[\\begin{array}{rr|r}\n",
    "    1 & 3/2 & 5/2 \\\\\n",
    "    0 & 17/2 & 19/2 \\\\\n",
    "  \\end{array}\\right] \\xrightarrow{R_2 = \\frac{2}{17} R_2}\n",
    "   \\left[\\begin{array}{rr|r}\n",
    "    1 & 3/2 & 5/2 \\\\\n",
    "    -1 & 1 & 19/17 \\\\\n",
    "  \\end{array}\\right]$$"
   ]
  },
  {
   "cell_type": "markdown",
   "metadata": {},
   "source": [
    "*Step 4*\n",
    "$$\\begin{cases} \n",
    "1 x + 3/2 y = 5/2 \\\\ \n",
    "0 x +1 y = 19/17\n",
    "\\end{cases}$$"
   ]
  },
  {
   "cell_type": "markdown",
   "metadata": {},
   "source": [
    "*Step 5* \n",
    "\n",
    "$y=19/17, x = 14/17$"
   ]
  },
  {
   "cell_type": "markdown",
   "metadata": {},
   "source": [
    "*Step 6*\n",
    "\n",
    "$$2 4/17 + 3 19/17 = 5$$\n",
    "$$-14/17 + 133/17 = 7$$\n"
   ]
  },
  {
   "cell_type": "markdown",
   "metadata": {},
   "source": [
    "Sometimes there can be 0 on the diaogonal. Also, if we end up having $0=\\{\\text{some value}\\}$, it means that the system is inconsistent and the point of intersection of all lines doesn't exist."
   ]
  },
  {
   "cell_type": "markdown",
   "metadata": {},
   "source": [
    "## Echelon Form and Pivots\n",
    "\n",
    "In general case, the echelon form looks as follows: "
   ]
  },
  {
   "cell_type": "markdown",
   "metadata": {},
   "source": [
    "$$\\begin{bmatrix}\n",
    "\\boxed{a}&b&c&d&e\\\\\n",
    "0&\\boxed{f}&g&h&i\\\\\n",
    "0&0&0&\\boxed{j}&k\\\\\n",
    "0&0&0&0&0\\\\\n",
    "\\end{bmatrix}$$"
   ]
  },
  {
   "cell_type": "markdown",
   "metadata": {},
   "source": [
    "The leading elements (boxed) are privots. There **must** be all zeroes below the pivot point! Pivot points can tell the rank of the matrix: \n",
    "\n",
    "$$r(\\mathbf{A}) = \\text{number of pivot points}$$"
   ]
  },
  {
   "cell_type": "markdown",
   "metadata": {},
   "source": [
    "The echelon form is derived by performing Gaussian elimination. "
   ]
  },
  {
   "cell_type": "markdown",
   "metadata": {},
   "source": [
    "<a id=\"rref\"></a>\n",
    "## Reduced Row Echelon Form (RREF)"
   ]
  },
  {
   "cell_type": "markdown",
   "metadata": {},
   "source": [
    "The RREF matrix looks as follows: \n",
    "$$\\begin{bmatrix}\n",
    "\\boxed{1}&0&*&0&0\\\\\n",
    "0&\\boxed{1}&*&0&0\\\\\n",
    "0&0&0&\\boxed{1}&0\\\\\n",
    "0&0&0&0&1\\\\\n",
    "\\end{bmatrix}$$"
   ]
  },
  {
   "cell_type": "markdown",
   "metadata": {},
   "source": [
    "There should be all zeroes:  \n",
    "- to the left of the pivot point\n",
    "- below the pivot point. \n",
    "- above the pivot point"
   ]
  },
  {
   "cell_type": "markdown",
   "metadata": {},
   "source": [
    "It's important to note that we **LOSE** information when we go from A to RREF of A. The RREF is also derived by elimination. RREF makes solving linear equations trivial.\n",
    "\n",
    "RREF is not used in practice very often and there is even no special method for that in numpy. RREF can by found in sympy packaged as a method of Matrix class. "
   ]
  },
  {
   "cell_type": "markdown",
   "metadata": {},
   "source": [
    "**Examples**\n",
    "\n",
    "*Square matrix -> RREF*\n",
    "\n",
    "Any full rank square matrix will produce the identity matrix. "
   ]
  },
  {
   "cell_type": "code",
   "execution_count": 33,
   "metadata": {},
   "outputs": [
    {
     "data": {
      "text/plain": [
       "Matrix([\n",
       "[ 2.0, 3.0, 2.0, 9.0],\n",
       "[ 7.0, 8.0, 4.0, 2.0],\n",
       "[ 0.0, 2.0, 7.0, 4.0],\n",
       "[10.0, 8.0, 3.0, 2.0]])"
      ]
     },
     "execution_count": 33,
     "metadata": {},
     "output_type": "execute_result"
    }
   ],
   "source": [
    "import numpy as np\n",
    "from sympy import Matrix\n",
    "A = Matrix(np.round(np.random.rand(4,4)*10))\n",
    "A"
   ]
  },
  {
   "cell_type": "code",
   "execution_count": 34,
   "metadata": {},
   "outputs": [
    {
     "data": {
      "text/plain": [
       "(Matrix([\n",
       " [1, 0, 0, 0],\n",
       " [0, 1, 0, 0],\n",
       " [0, 0, 1, 0],\n",
       " [0, 0, 0, 1]]), (0, 1, 2, 3))"
      ]
     },
     "execution_count": 34,
     "metadata": {},
     "output_type": "execute_result"
    }
   ],
   "source": [
    "A.rref()"
   ]
  },
  {
   "cell_type": "markdown",
   "metadata": {},
   "source": [
    "*Rectangular matrix -> RREF* "
   ]
  },
  {
   "cell_type": "code",
   "execution_count": 37,
   "metadata": {},
   "outputs": [
    {
     "data": {
      "text/plain": [
       "Matrix([\n",
       "[6.0, 2.0],\n",
       "[9.0, 9.0],\n",
       "[8.0, 9.0],\n",
       "[2.0, 6.0],\n",
       "[9.0, 1.0]])"
      ]
     },
     "execution_count": 37,
     "metadata": {},
     "output_type": "execute_result"
    }
   ],
   "source": [
    "B = Matrix(np.round(np.random.rand(5,2)*10))\n",
    "B"
   ]
  },
  {
   "cell_type": "code",
   "execution_count": 38,
   "metadata": {},
   "outputs": [
    {
     "data": {
      "text/plain": [
       "(Matrix([\n",
       " [1, 0],\n",
       " [0, 1],\n",
       " [0, 0],\n",
       " [0, 0],\n",
       " [0, 0]]), (0, 1))"
      ]
     },
     "execution_count": 38,
     "metadata": {},
     "output_type": "execute_result"
    }
   ],
   "source": [
    "B.rref()"
   ]
  },
  {
   "cell_type": "code",
   "execution_count": 39,
   "metadata": {},
   "outputs": [
    {
     "data": {
      "text/plain": [
       "Matrix([\n",
       "[8.0,  4.0,  0.0, 4.0, 3.0],\n",
       "[8.0, 10.0, 10.0, 6.0, 5.0]])"
      ]
     },
     "execution_count": 39,
     "metadata": {},
     "output_type": "execute_result"
    }
   ],
   "source": [
    "C = Matrix(np.round(np.random.rand(2,5)*10))\n",
    "C"
   ]
  },
  {
   "cell_type": "code",
   "execution_count": 40,
   "metadata": {},
   "outputs": [
    {
     "data": {
      "text/plain": [
       "(Matrix([\n",
       " [1, 0, -0.833333333333333, 0.333333333333333, 0.208333333333333],\n",
       " [0, 1,   1.66666666666667, 0.333333333333333, 0.333333333333333]]), (0, 1))"
      ]
     },
     "execution_count": 40,
     "metadata": {},
     "output_type": "execute_result"
    }
   ],
   "source": [
    "C.rref()"
   ]
  },
  {
   "cell_type": "markdown",
   "metadata": {},
   "source": [
    "<a id=\"after\"></a>\n",
    "## Matrix Spaces After Row Reduction"
   ]
  },
  {
   "cell_type": "markdown",
   "metadata": {},
   "source": [
    "* The rank and $R(\\mathbf{A})$ remain unchanged when stripped down to RREF.   \n",
    "* Even though $R(\\mathbf{A})$ doesn't change, basis of $R(\\mathbf{A})$ DOES change. It will span the same space but the vector pair will likely to be differnt (and with the differnt angle between them) \n",
    "* $C(\\mathbf{A})$ **DOES** change after row reduction (when we change the entire row, we're changing just one element of each column). It will be the same geometrical object (e.g. a plane), but it's position will change. "
   ]
  },
  {
   "cell_type": "markdown",
   "metadata": {},
   "source": [
    "**Example**\n",
    "$${\\begin{bmatrix}\n",
    "1&2\\\\\n",
    "3&7\\\\\n",
    "9&1\\\\\n",
    "\\end{bmatrix}} \\rightarrow {\\begin{bmatrix}\n",
    "1&0\\\\\n",
    "0&1\\\\\n",
    "0&0\\\\\n",
    "\\end{bmatrix}}$$"
   ]
  },
  {
   "cell_type": "markdown",
   "metadata": {},
   "source": [
    "The columns of the first matrix define a tilted plane in $\\mathbb{R}^3$, while the columns of the second define a plane that's that same as xy-plane. "
   ]
  },
  {
   "cell_type": "markdown",
   "metadata": {},
   "source": [
    "It's not always the case though. Here is an example when the column space remains the same (in both cases the columns span the whole $\\mathbb{R}^2$: "
   ]
  },
  {
   "cell_type": "markdown",
   "metadata": {},
   "source": [
    "$${\\begin{bmatrix}\n",
    "1&2\\\\\n",
    "3&7\\\\\n",
    "\\end{bmatrix}} \\rightarrow {\\begin{bmatrix}\n",
    "1&0\\\\\n",
    "0&1\\\\\n",
    "\\end{bmatrix}}$$"
   ]
  },
  {
   "cell_type": "code",
   "execution_count": null,
   "metadata": {},
   "outputs": [],
   "source": []
  }
 ],
 "metadata": {
  "kernelspec": {
   "display_name": "Python [conda env:DAND]",
   "language": "python",
   "name": "conda-env-DAND-py"
  },
  "language_info": {
   "codemirror_mode": {
    "name": "ipython",
    "version": 3
   },
   "file_extension": ".py",
   "mimetype": "text/x-python",
   "name": "python",
   "nbconvert_exporter": "python",
   "pygments_lexer": "ipython3",
   "version": "3.7.1"
  }
 },
 "nbformat": 4,
 "nbformat_minor": 2
}
