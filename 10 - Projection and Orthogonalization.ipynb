{
 "cells": [
  {
   "cell_type": "markdown",
   "metadata": {},
   "source": [
    "# Projection and Orthogonalization"
   ]
  },
  {
   "cell_type": "markdown",
   "metadata": {},
   "source": [
    "This text and code is derived from Mike X Cohen's course on linear algebra. For more information, see https://www.udemy.com/linear-algebra-theory-and-implementation/?couponCode=LINALGPX7\n",
    "\n",
    "Enhancements made by me for this section: \n",
    "- plots \n",
    "- detailed and more formal explanation of why R is upper triangular (based on Mike's explanation)"
   ]
  },
  {
   "cell_type": "markdown",
   "metadata": {},
   "source": [
    "## Table of contents \n",
    "- [Projections in $\\mathbb{R^2}$](#r2)\n",
    "- [Projections in $\\mathbb{R}^N$](#rn)  \n",
    "- [Orthogonal and parallel vector components](#components)\n",
    "- [Orthogonal Matrices](#ortho)  \n",
    "- [Gram-Schmidt Process](#gramschmidt)  \n",
    "- [QR Decomposition](#qr)"
   ]
  },
  {
   "cell_type": "code",
   "execution_count": 265,
   "metadata": {},
   "outputs": [],
   "source": [
    "import numpy as np\n",
    "import matplotlib.pyplot as plt\n",
    "%matplotlib inline\n",
    "# preliminary setting \n",
    "def draw_setting(ax,a,b):\n",
    "    ax.set_xlim(-0.1,5);\n",
    "    ax.set_ylim(-0.1,5);\n",
    "    ax.grid();\n",
    "    shift = 0.1*np.array([-1,1])\n",
    "    x1=a+0.1*np.array([-1,1])\n",
    "    x2=b+0.1*np.array([-1,1])\n",
    "    ax.plot([0,a[0]],[0,a[1]], label=\"a\");\n",
    "    ax.plot([0,b[0]],[0,b[1]], label=\"b\");\n",
    "    ax.plot(*b, marker='o', color='orange', ls='',label=\"B\")\n",
    "    ax.annotate(\"B\",v2+0.1, fontsize=16);\n",
    "    ax.plot(0,0, marker='o', color='orange', ls='',label=\"C\")\n",
    "    ax.annotate(\"O\",[0.1,0.2], fontsize=16);    \n",
    "    ax.text(*(a+shift),\"a\",fontsize=14);\n",
    "    ax.text(*(b+shift),\"b\",fontsize=14);"
   ]
  },
  {
   "cell_type": "markdown",
   "metadata": {},
   "source": [
    "<a id=\"r2\"></a>\n",
    "## Projections in $\\mathbb{R^2}$"
   ]
  },
  {
   "cell_type": "markdown",
   "metadata": {},
   "source": [
    "Let's say we have two non-collinear and non-orthogonal vectors in $\\mathbb{R^2}$: $\\mathbf{a}$ and $\\mathbf{b}$."
   ]
  },
  {
   "cell_type": "code",
   "execution_count": 266,
   "metadata": {},
   "outputs": [],
   "source": [
    "a = np.array([4,4])\n",
    "b = np.array([3,1])"
   ]
  },
  {
   "cell_type": "code",
   "execution_count": 340,
   "metadata": {
    "scrolled": true
   },
   "outputs": [
    {
     "data": {
      "image/png": "[encoded data removed]",
      "text/plain": [
       "<Figure size 288x288 with 1 Axes>"
      ]
     },
     "metadata": {
      "needs_background": "light"
     },
     "output_type": "display_data"
    }
   ],
   "source": [
    "fig = plt.figure(figsize=(4, 4));\n",
    "ax = fig.add_subplot(111);\n",
    "draw_setting(ax,a,b);\n",
    "ax.set_title(\"Initial setting\");\n",
    "plt.show()"
   ]
  },
  {
   "cell_type": "markdown",
   "metadata": {},
   "source": [
    "**Goal:** We want to project point $B$ on $\\mathbf{a}$ such that the distance between $B$ and $\\mathbf{a}$ is minimal. \n",
    "\n",
    "Obviously, the shortest path is the straight path, so we want to draw a line from $B$ to $\\mathbf{a}$, so that this line intersects $\\mathbf{a}$ at the right angle. Let's say that it happens at some point $C$ (let it be vector $\\mathbf{c}$). $\\mathbf{C} \\in \\mathbf{a} \\implies \\mathbf{c} = \\beta \\mathbf{a}$"
   ]
  },
  {
   "cell_type": "code",
   "execution_count": 341,
   "metadata": {},
   "outputs": [
    {
     "data": {
      "image/png": "[encoded data removed]",
      "text/plain": [
       "<Figure size 288x288 with 1 Axes>"
      ]
     },
     "metadata": {
      "needs_background": "light"
     },
     "output_type": "display_data"
    }
   ],
   "source": [
    "x = a*((b@a)/(a@a))\n",
    "fig = plt.figure(figsize=(4, 4));\n",
    "ax = fig.add_subplot(111);\n",
    "draw_setting(ax,a,b);\n",
    "ax.plot([b[0],x[0]],[b[1],x[1]],'g--')\n",
    "ax.plot(*x, marker='o', color='green', ls='',label=\"C\")\n",
    "ax.annotate(\"C\",x+[-0.1,0.1], fontsize=16);\n",
    "plt.show()"
   ]
  },
  {
   "cell_type": "markdown",
   "metadata": {},
   "source": [
    "Geometrically, $\\mathbf{CB}$ is the difference between $\\mathbf{c}$ and $\\mathbf{b}$:\n",
    "\n",
    "$$\\mathbf{CB} = \\mathbf{b-c} = \\mathbf{b-\\beta a}$$\n",
    "\n",
    "We also know that: \n",
    "\n",
    "$$(\\mathbf{b-\\beta a}) \\perp \\mathbf{CB}$$\n",
    "\n",
    "Hence, we can write (because the dot product of two orthogonal vectors is 0): \n",
    "\n",
    "$$\\mathbf{a^T} (\\mathbf{b - \\beta a}) = 0 $$"
   ]
  },
  {
   "cell_type": "markdown",
   "metadata": {},
   "source": [
    "Now we just have to find $\\beta$: \n",
    "\n",
    "$$\\begin{align*}\n",
    "&\\mathbf{a^T} (\\mathbf{b - \\beta a}) = 0 \\\\\n",
    "&\\mathbf{a^T b - a^T} \\beta \\mathbf{a} = 0 \\\\\n",
    "&\\boxed{\\beta = \\frac{\\mathbf{a^T b}}{\\mathbf{a^T a}} = \\frac{\\mathbf{a^T b}}{\\mathbf{||a||^2}}} \n",
    "\\end{align*}$$"
   ]
  },
  {
   "cell_type": "markdown",
   "metadata": {},
   "source": [
    "Boxed is the projection formula which is an example of a very common procedure when we divide mapping ($\\mathbf{a^T b}$) over magnitude ($\\mathbf{a^T a}$)"
   ]
  },
  {
   "cell_type": "markdown",
   "metadata": {},
   "source": [
    "<a id=\"rn\"></a>\n",
    "## Projections in $\\mathbb{R}^N$"
   ]
  },
  {
   "cell_type": "markdown",
   "metadata": {},
   "source": [
    "Now we would like to project $\\mathbf{b}$ onto some vector space spanned by $\\mathbf{A}$. Similarly to $\\mathbb{R}^2$ we can write: \n",
    "\n",
    "$$\\mathbf{A^T (b - A x) = 0}$$\n",
    "\n",
    "Note that vector $\\mathbf{x}$ contains $\\beta$-s for all dimensions. Then we can easily derive $\\mathbf{x}$: \n",
    "\n"
   ]
  },
  {
   "cell_type": "markdown",
   "metadata": {},
   "source": [
    "$$\\begin{align*}\n",
    "&\\mathbf{A^T b - A^T A x = 0} \\\\\\\\ \n",
    "&\\mathbf{A^T A x = A^T b} \\\\\\\\\n",
    "&\\mathbf{(A^T A)^{-1} A^T A x = (A^T A)^{-1} A^T b} \\\\\\\\\n",
    "&\\mathbf{(A^T A)^{-1} (A^T A) x = (A^T A)^{-1} A^T b} \\\\\\\\\n",
    "&\\mathbf{I x = (A^T A)^{-1} A^T b} \\\\\\\\\n",
    "&\\boxed{\\mathbf{x = (A^T A)^{-1} A^T b}} \\\\\\\\\n",
    "\\end{align*}$$"
   ]
  },
  {
   "cell_type": "markdown",
   "metadata": {},
   "source": [
    "**NOTE**: We can't assume that $\\mathbf{A}$ is square and full-rank, but we know that $\\mathbf{A^T A}$ is square, so we only need $\\mathbf{A}$ to be full column rank (as was the case with left-inverse in part 9)."
   ]
  },
  {
   "cell_type": "markdown",
   "metadata": {},
   "source": [
    "If a matrix is square, then we can simplify the formula to: \n",
    "\n",
    "$$\\mathbf{x = (A^T A)^{-1} A^T b} = \\mathbf{A^{-1} (A^{T})^{-1} A^T b} = \\mathbf{A^{-1} ((A^{T})^{-1} A^T) b} = \\mathbf{A^{-1} I b} = \\boxed{ \\mathbf{A^{-1} b}}$$"
   ]
  },
  {
   "cell_type": "markdown",
   "metadata": {},
   "source": [
    "<a id=\"components\"></a>\n",
    "## Orthogonal and parallel vector components "
   ]
  },
  {
   "cell_type": "markdown",
   "metadata": {},
   "source": [
    "<a id=\"components\"></a>\n",
    "**Given**: some arbitrary vector $\\mathbf{w}$ and some reference vector $\\mathbf{v}$. \n",
    "\n",
    "**Goal:** decompose 2D vector $\\mathbf{w}$ such that one component is $||$ to $\\mathbf{v}$ and the other is $\\perp$ to $\\mathbf{v}$ such that: \n",
    "\n",
    "$$\\mathbf{w} = \\mathbf{w}_{|| \\mathbf{v}} + \\mathbf{w}_{\\perp \\mathbf{v}}$$"
   ]
  },
  {
   "cell_type": "markdown",
   "metadata": {},
   "source": [
    "**Visual Example**"
   ]
  },
  {
   "cell_type": "code",
   "execution_count": 348,
   "metadata": {},
   "outputs": [
    {
     "data": {
      "image/png": "[encoded data removed]",
      "text/plain": [
       "<Figure size 432x432 with 1 Axes>"
      ]
     },
     "metadata": {
      "needs_background": "light"
     },
     "output_type": "display_data"
    }
   ],
   "source": [
    "v = np.array([4,2])\n",
    "w = np.array([3,2])\n",
    "fig = plt.figure(figsize=(6, 6));\n",
    "ax = fig.add_subplot(111);    \n",
    "ax.set_xlim(-0.5,4);\n",
    "ax.set_ylim(-0.5,4);\n",
    "ax.plot([0,v[0]],[0,v[1]], label=\"v\");\n",
    "ax.plot([0,w[0]],[0,w[1]], label=\"w\");\n",
    "w_par = ((v@w)/(v@v))*v\n",
    "w_perp = w-w_par \n",
    "ax.plot([0,w_par[0]],[0,w_par[1]], 'r--', label=\"w$_{||v}$\", linewidth=2);\n",
    "ax.plot([0,w_perp[0]],[0,w_perp[1]], 'g--', label=\"w$_{\\perp v}$\", linewidth=2);\n",
    "ax.set_xticks(np.arange(0,5,1));\n",
    "ax.set_yticks(np.arange(0,5,1));\n",
    "ax.grid();\n",
    "ax.legend();\n",
    "plt.show()"
   ]
  },
  {
   "cell_type": "markdown",
   "metadata": {},
   "source": [
    "We can easily find $\\mathbf{w}_{||\\mathbf{v}}$ using projection formula to find the coefficient and then scale $\\mathbf{v}$ by it: \n",
    "\n",
    "$$\\mathbf{w}_{|| \\mathbf{v}} = \\text{proj}_\\mathbf{v} \\mathbf{w} = \\frac{\\mathbf{w^T v}}{\\mathbf{v^T v}} \\mathbf{v}$$"
   ]
  },
  {
   "cell_type": "markdown",
   "metadata": {},
   "source": [
    "Then $\\mathbf{w}_{\\perp \\mathbf{v}}$ can be found as follows: \n",
    "\n",
    "$$\\mathbf{w}_{\\perp \\mathbf{v}} = \\mathbf{w} - \\mathbf{w}_{|| \\mathbf{v}} $$"
   ]
  },
  {
   "cell_type": "markdown",
   "metadata": {},
   "source": [
    "To check that these are indeed the vectors we've been looking for, we can verify that their dot product it equal to 0:\n",
    "\n",
    "$$\\mathbf{w}^T_{\\perp \\mathbf{v}} \\mathbf{w}_{|| \\mathbf{v}} = (\\frac{\\mathbf{w^T v}}{\\mathbf{v^T v}} \\mathbf{v})^T (\\mathbf{w} - \\frac{\\mathbf{w^T v}}{\\mathbf{v^T v}} \\mathbf{v}) = \\frac{\\mathbf{w^T v}}{\\mathbf{v^T v}} \\mathbf{v}^T \\mathbf{w} -  \\frac{\\mathbf{w^T v}}{\\mathbf{v^T v}} \\frac{\\mathbf{w^T v}}{\\mathbf{v^T v}} \\mathbf{v^T v} = \\frac{(\\mathbf{w^T v})^2}{\\mathbf{v^T v}} - \\frac{(\\mathbf{w^T v})^2}{\\mathbf{v^T v}}$$"
   ]
  },
  {
   "cell_type": "markdown",
   "metadata": {},
   "source": [
    "<a id=\"ortho\"></a>\n",
    "## Orthogonal Matrices "
   ]
  },
  {
   "cell_type": "markdown",
   "metadata": {},
   "source": [
    "Orthogonal matrix is a matrix such that:  \n",
    "- all columns are pairwise orthogonal. \n",
    "- each column has magnitude 1 \n",
    "\n",
    "Orthogonal matrices are typically denoted as $\\mathbf{Q}$ "
   ]
  },
  {
   "cell_type": "markdown",
   "metadata": {},
   "source": [
    "Formal definition: \n",
    "$$\\langle \\mathbf{Q_i,Q_j} \\rangle = \n",
    "\\begin{cases} \n",
    "1, \\text{if } 1 = j \\\\\n",
    "0, \\text{if } i \\neq j\n",
    "\\end{cases}, \\mathbf{Q^T Q = I}$$\n",
    "\n",
    "$\\langle Q_i,Q_j \\rangle$  is the dot product of columns $i$ and $j$. If $i=j$ then it's squared magnitude must be equal to 1. If $i \\neq j$, then the dot product must be 0. "
   ]
  },
  {
   "cell_type": "markdown",
   "metadata": {},
   "source": [
    "Identity matrix is one example of orthogonal matrix: \n",
    "\n",
    "$$\\mathbf{I^T I = I}$$"
   ]
  },
  {
   "cell_type": "markdown",
   "metadata": {},
   "source": [
    "We can recall that inverse matrix also produces the identity matrix when multiplied by the original matrix. So we can derive that: \n",
    "\n",
    "$$\\mathbf{Q^T Q = I}$$\n",
    "\n",
    "$$\\mathbf{Q^{-1} Q = I}$$\n",
    "\n",
    "$$\\implies \\mathbf{Q^T Q = Q^{-1} Q}$$\n",
    "\n",
    "$$\\implies \\mathbf{Q^T = Q^{-1}}$$"
   ]
  },
  {
   "cell_type": "markdown",
   "metadata": {},
   "source": [
    "**NOTE:** Orthogonal matrix doesn't have to be square.\n",
    "\n",
    "However, if a matrix is **square**, it's also true that: \n",
    "\n",
    "$$\\mathbf{Q^T Q = Q^{-1} Q = Q Q^{-1} = Q Q^T = I}$$"
   ]
  },
  {
   "cell_type": "markdown",
   "metadata": {},
   "source": [
    "**Example**"
   ]
  },
  {
   "cell_type": "markdown",
   "metadata": {},
   "source": [
    "$$\\frac{1}{\\sqrt{2}}{\\begin{bmatrix}\n",
    "1&-1\\\\\n",
    "1&1\\\\\n",
    "\\end{bmatrix}}\n",
    "$$"
   ]
  },
  {
   "cell_type": "code",
   "execution_count": 380,
   "metadata": {
    "scrolled": true
   },
   "outputs": [
    {
     "data": {
      "text/plain": [
       "array([[ 0.70710678, -0.70710678],\n",
       "       [ 0.70710678,  0.70710678]])"
      ]
     },
     "execution_count": 380,
     "metadata": {},
     "output_type": "execute_result"
    }
   ],
   "source": [
    "A = np.array([[1,-1],[1,1]])*(1/np.sqrt(2))\n",
    "A"
   ]
  },
  {
   "cell_type": "markdown",
   "metadata": {},
   "source": [
    "Check that $\\mathbf{Q^T Q}$ produces identity:"
   ]
  },
  {
   "cell_type": "code",
   "execution_count": 382,
   "metadata": {},
   "outputs": [
    {
     "data": {
      "text/plain": [
       "array([[1., 0.],\n",
       "       [0., 1.]])"
      ]
     },
     "execution_count": 382,
     "metadata": {},
     "output_type": "execute_result"
    }
   ],
   "source": [
    "np.round(A.T@A,4)"
   ]
  },
  {
   "cell_type": "markdown",
   "metadata": {},
   "source": [
    "Check that $\\mathbf{Q^{-1} Q}$ produces identity: "
   ]
  },
  {
   "cell_type": "code",
   "execution_count": 385,
   "metadata": {},
   "outputs": [
    {
     "data": {
      "text/plain": [
       "array([[1., 0.],\n",
       "       [0., 1.]])"
      ]
     },
     "execution_count": 385,
     "metadata": {},
     "output_type": "execute_result"
    }
   ],
   "source": [
    "np.round(np.linalg.inv(A)@A,4)"
   ]
  },
  {
   "cell_type": "markdown",
   "metadata": {},
   "source": [
    "Check that each column is of unit length: "
   ]
  },
  {
   "cell_type": "code",
   "execution_count": 391,
   "metadata": {},
   "outputs": [
    {
     "name": "stdout",
     "output_type": "stream",
     "text": [
      "1.0\n",
      "1.0\n"
     ]
    }
   ],
   "source": [
    "print(np.round(np.linalg.norm(A[:,0]),4))\n",
    "print(np.round(np.linalg.norm(A[:,1]),4))"
   ]
  },
  {
   "cell_type": "markdown",
   "metadata": {},
   "source": [
    "Check that columns are orthogonal to each other: "
   ]
  },
  {
   "cell_type": "code",
   "execution_count": 392,
   "metadata": {},
   "outputs": [
    {
     "data": {
      "text/plain": [
       "0.0"
      ]
     },
     "execution_count": 392,
     "metadata": {},
     "output_type": "execute_result"
    }
   ],
   "source": [
    "A[:,0]@A[:,1]"
   ]
  },
  {
   "cell_type": "markdown",
   "metadata": {},
   "source": [
    "In $\\mathbb{R}^2$ any Q-matrix can be expressed as simple rotation matrix: \n",
    "\n",
    "$${\\begin{bmatrix}\n",
    "\\cos(\\theta)&-\\sin(\\theta)\\\\\n",
    "\\sin(\\theta)&\\cos(\\theta)\\\\\n",
    "\\end{bmatrix}}\n",
    "$$"
   ]
  },
  {
   "cell_type": "markdown",
   "metadata": {},
   "source": [
    "Basically, every orthogonal matrix in $\\mathbb{R}^2$ is some rotation of the $x$ and $y$ axes that are definied by the identity matrix. Our example is the rotation by $\\frac{\\pi}{4}$."
   ]
  },
  {
   "cell_type": "code",
   "execution_count": 395,
   "metadata": {},
   "outputs": [],
   "source": [
    "def rotation_matrix(theta):\n",
    "    c, s = np.cos(theta), np.sin(theta)\n",
    "    R = np.array(((c,-s), (s, c)))\n",
    "    return R"
   ]
  },
  {
   "cell_type": "code",
   "execution_count": 406,
   "metadata": {
    "scrolled": true
   },
   "outputs": [
    {
     "data": {
      "text/plain": [
       "array([[ 0.70710678, -0.70710678],\n",
       "       [ 0.70710678,  0.70710678]])"
      ]
     },
     "execution_count": 406,
     "metadata": {},
     "output_type": "execute_result"
    }
   ],
   "source": [
    "R = rotation_matrix(np.pi/4)\n",
    "I = np.diag([1,1])\n",
    "IR = I@R\n",
    "IR"
   ]
  },
  {
   "cell_type": "code",
   "execution_count": 418,
   "metadata": {},
   "outputs": [
    {
     "data": {
      "image/png": "[encoded data removed]",
      "text/plain": [
       "<Figure size 432x432 with 1 Axes>"
      ]
     },
     "metadata": {
      "needs_background": "light"
     },
     "output_type": "display_data"
    }
   ],
   "source": [
    "fig = plt.figure(figsize=(6, 6));\n",
    "ax = fig.add_subplot(111);    \n",
    "ax.set_xlim(-1,1.5);\n",
    "ax.set_ylim(-0.5,2);\n",
    "ax.plot([0,1],[0,0], 'r-', label=\"XY\");\n",
    "ax.plot([0,0],[0,1], 'r-');\n",
    "ax.plot([0,IR[0,0]],[0,IR[1,0]], 'g-', label=\"rotated XY\");\n",
    "ax.plot([0,IR[0,1]],[0,IR[1,1]], 'g-');\n",
    "ax.grid();\n",
    "ax.legend();\n",
    "plt.show()"
   ]
  },
  {
   "cell_type": "markdown",
   "metadata": {},
   "source": [
    "<a id=\"gramschmidt\"></a>\n",
    "## Gram-Schmidt and QR-decomposition"
   ]
  },
  {
   "cell_type": "markdown",
   "metadata": {},
   "source": [
    "Let $\\mathbf{A}$ be a matrix with $n$ columns: \n",
    "$\\mathbf{A} = \\begin{bmatrix}\n",
    "\\mathbf{a_{:,1}}&\\mathbf{a_{:,2}}&\\mathbf{a_{:,3}}&\\dots&\\mathbf{a_{:,n}}\\\\\n",
    "\\end{bmatrix}$\n"
   ]
  },
  {
   "cell_type": "markdown",
   "metadata": {},
   "source": [
    "The Gram-Schmidt process is performed as follows: \n",
    "1. Take $\\mathbf{a_{:,1}}$ as is and normalize by dividing it by $||\\mathbf{a_{:,1}}||$  \n",
    "2. For each column from 2 to n do the following: \n",
    "    - orthogonalize relative to all n-1 columns preceeding that one\n",
    "    - normlize"
   ]
  },
  {
   "cell_type": "markdown",
   "metadata": {},
   "source": [
    "**Example**:  \n",
    "\n",
    "$A =\\begin{bmatrix} \n",
    "1&1&-2 \\\\\n",
    "3&-1&1\\\\\n",
    "\\end{bmatrix}$"
   ]
  },
  {
   "cell_type": "code",
   "execution_count": 494,
   "metadata": {},
   "outputs": [],
   "source": [
    "A = np.array([[1,1,-1],[3,-1,1]])"
   ]
  },
  {
   "cell_type": "code",
   "execution_count": 495,
   "metadata": {},
   "outputs": [
    {
     "data": {
      "image/png": "[encoded data removed]",
      "text/plain": [
       "<Figure size 288x288 with 1 Axes>"
      ]
     },
     "metadata": {
      "needs_background": "light"
     },
     "output_type": "display_data"
    }
   ],
   "source": [
    "fig = plt.figure(figsize=(4, 4));\n",
    "ax = fig.add_subplot(111);    \n",
    "ax.set_xlim(-2.5,2.1);\n",
    "ax.set_ylim(-1.5,3.1);\n",
    "ax.plot([0,1],[0,3], 'g-', label=\"a1\");\n",
    "ax.plot([0,1],[0,-1], 'r-', label=\"a2\");\n",
    "ax.plot([0,-2],[0,1], 'b-', label=\"a3\");\n",
    "ax.grid();\n",
    "ax.legend();\n",
    "plt.show()"
   ]
  },
  {
   "cell_type": "markdown",
   "metadata": {},
   "source": [
    "We have 3 vectors in $\\mathbb{R}^2$, so one vector must be linearly dependent. Let's perform the Gram-Schmidt procedure:  \n",
    "\n",
    "*Step 1* Normalize $\\mathbf{a_1}$:   \n",
    "$\\mathbf{v}_1 = \\frac{1}{||\\mathbf{a_{:,1}}||} \\mathbf{a_{:,1}} $"
   ]
  },
  {
   "cell_type": "code",
   "execution_count": 496,
   "metadata": {},
   "outputs": [],
   "source": [
    "v1 = A[:,0]/np.linalg.norm(A[:,0])"
   ]
  },
  {
   "cell_type": "code",
   "execution_count": 497,
   "metadata": {},
   "outputs": [
    {
     "data": {
      "text/plain": [
       "array([0.31622777, 0.9486833 ])"
      ]
     },
     "execution_count": 497,
     "metadata": {},
     "output_type": "execute_result"
    }
   ],
   "source": [
    "v1"
   ]
  },
  {
   "cell_type": "markdown",
   "metadata": {},
   "source": [
    "*Step 2*\n",
    "\n",
    "Take $\\mathbf{a_2}$ and orthogonalize it relative to $\\mathbf{a_1}$:  \n",
    "\n",
    "$$\\mathbf{v}_{2,\\perp \\mathbf{v_1}} = \\mathbf{a_{:,2}} - \\mathbf{a}_{:,2,\\perp \\mathbf{v_1}} = \\mathbf{a_{:,2}} -\\frac{\\mathbf{v_1^T a_{:,2}}}{\\mathbf{v_1^T v_1}} \\mathbf{v_1}$$"
   ]
  },
  {
   "cell_type": "code",
   "execution_count": 498,
   "metadata": {},
   "outputs": [],
   "source": [
    "v2 = A[:,1] - ((v1@A[:,1])/(v1@v1))*v1"
   ]
  },
  {
   "cell_type": "code",
   "execution_count": 499,
   "metadata": {},
   "outputs": [
    {
     "data": {
      "text/plain": [
       "array([ 1.2, -0.4])"
      ]
     },
     "execution_count": 499,
     "metadata": {},
     "output_type": "execute_result"
    }
   ],
   "source": [
    "v2"
   ]
  },
  {
   "cell_type": "markdown",
   "metadata": {},
   "source": [
    "Normalize: "
   ]
  },
  {
   "cell_type": "code",
   "execution_count": 500,
   "metadata": {},
   "outputs": [
    {
     "data": {
      "text/plain": [
       "array([ 0.9486833 , -0.31622777])"
      ]
     },
     "execution_count": 500,
     "metadata": {},
     "output_type": "execute_result"
    }
   ],
   "source": [
    "v2 = v2/np.linalg.norm(v2)\n",
    "v2"
   ]
  },
  {
   "cell_type": "markdown",
   "metadata": {},
   "source": [
    "*Step 3*  \n",
    "Do the same for $\\mathbf{a_3}$: "
   ]
  },
  {
   "cell_type": "markdown",
   "metadata": {},
   "source": [
    "$$\\mathbf{v}_{3,\\perp \\mathbf{v_1} \\perp \\mathbf{v_2}} = \\mathbf{a_{:,3}} - \\mathbf{v}_{3,\\perp \\mathbf{v_1}} - \\mathbf{a}_{:,3,\\perp \\mathbf{v_2}}= \\mathbf{a_{:,3}} -\\frac{\\mathbf{v_1^T a_{:,3}}}{\\mathbf{v_1^T v_1}} \\mathbf{v_1} - \\frac{\\mathbf{v_2^T a_{:,3}}}{\\mathbf{v_2^T v_2}} \\mathbf{v_2}$$"
   ]
  },
  {
   "cell_type": "code",
   "execution_count": 501,
   "metadata": {},
   "outputs": [],
   "source": [
    "v3 = np.round(A[:,2] - v1*((v1@A[:,2])/(v1@v1)) - v2*((v2@A[:,2])/(v2@v2)),6)"
   ]
  },
  {
   "cell_type": "code",
   "execution_count": 506,
   "metadata": {},
   "outputs": [
    {
     "data": {
      "text/plain": [
       "array([ 0., -0.])"
      ]
     },
     "execution_count": 506,
     "metadata": {},
     "output_type": "execute_result"
    }
   ],
   "source": [
    "v3"
   ]
  },
  {
   "cell_type": "markdown",
   "metadata": {},
   "source": [
    "Obviously, the last vector is all 0s since it's the only way how we can have an orthogonal matrix of 3 vectors in 2-dimensional space. The result is shown below:"
   ]
  },
  {
   "cell_type": "code",
   "execution_count": 491,
   "metadata": {},
   "outputs": [
    {
     "data": {
      "image/png": "[encoded data removed]",
      "text/plain": [
       "<Figure size 288x288 with 1 Axes>"
      ]
     },
     "metadata": {
      "needs_background": "light"
     },
     "output_type": "display_data"
    }
   ],
   "source": [
    "fig = plt.figure(figsize=(4, 4));\n",
    "ax = fig.add_subplot(111);    \n",
    "ax.set_xlim(-2.5,2.1);\n",
    "ax.set_ylim(-1.5,3.1);\n",
    "ax.plot([0,1],[0,3], 'r-', label=\"original basis\");\n",
    "ax.plot([0,v1[0]],[0,v1[1]], label=\"v1\");\n",
    "ax.plot([0,1],[0,-1], 'r-');\n",
    "ax.plot([0,v2[0]],[0,v2[1]], label=\"v2\");\n",
    "ax.plot([0,-2],[0,1], 'r-');\n",
    "ax.grid();\n",
    "ax.legend();\n",
    "plt.show()"
   ]
  },
  {
   "cell_type": "markdown",
   "metadata": {},
   "source": [
    "<a id=\"qr\"></a>\n",
    "## QR Decomposition"
   ]
  },
  {
   "cell_type": "markdown",
   "metadata": {},
   "source": [
    "Matrix $\\mathbf{Q}$ is **different** from $\\mathbf{A}$ - we **lose information** and can't get it back. That's why we need QR-decomposition that allows to get the information back: \n",
    "\n",
    "$$\\mathbf{A = QR}$$"
   ]
  },
  {
   "cell_type": "markdown",
   "metadata": {},
   "source": [
    "Finding $\\mathbf{R}$ is easy thanks to $\\mathbf{Q^{-1}=Q^T}$: \n",
    "\n",
    "$$\\mathbf{Q^T A = Q^T Q R}$$ \n",
    "\n",
    "$$\\mathbf{R = Q^T A}$$"
   ]
  },
  {
   "cell_type": "markdown",
   "metadata": {},
   "source": [
    "We can also use QR-decompositon to compute the matrix inverse. It increases the accuracy of the inverse.  \n",
    "\n",
    "$$\\mathbf{A = QR}$$ \n",
    "\n",
    "$$\\mathbf{A^{-1} = (QR)^{-1}}$$\n",
    "\n",
    "$$\\mathbf{A^{-1} = R^{-1} Q^{-1}}$$\n",
    "\n",
    "$$\\mathbf{A^{-1} = R^{-1} Q^T}$$\n",
    "\n",
    "R is upper triangular and it's quite easy to compute its inverse. \n",
    "\n",
    "**Why R is upper triangular?**\n",
    "\n",
    "According to Gram-Schmidt algorithm, we set *later* columns to be orthogonal to *earlier* columns. So, later columns of $\\mathbf{Q}$ are orthogonal to earlier columns in $\\mathbf{A}$ (directly follows from the algorithm). However, later columns are not necessarily orthogonal to earlier columns in $\\mathbf{Q}$.\n",
    "\n",
    "**Detailed explanation**\n",
    "$$\\mathbf{Q} = \\begin{bmatrix} \n",
    "\\mathbf{q}_{:,1}&\\mathbf{q}_{:,2}&\\dots&\\mathbf{q}_{:,n}\\\\\n",
    "\\end{bmatrix}, \\mathbf{Q} \\in \\mathbb{R}^{m \\times n}$$\n",
    "\n",
    "$$\\mathbf{A} = \\begin{bmatrix} \n",
    "\\mathbf{a}_{:,1}&\\mathbf{a}_{:,2}&\\dots&\\mathbf{a}_{:,n}\\\\\n",
    "\\end{bmatrix}, \\mathbf{A} \\in \\mathbb{R}^{m \\times n}$$\n",
    "\n",
    "$$\\begin{align*}\n",
    "&{\\mathbf{R = Q^T A} = \n",
    "\\begin{bmatrix} \n",
    "\\mathbf{q}_{:,1}&\\mathbf{q}_{:,1}&\\dots&\\mathbf{q}_{:,n}\\\\\n",
    "\\end{bmatrix}^T  \\begin{bmatrix} \n",
    "\\mathbf{a}_{:,1}&\\mathbf{a}_{:,2}&\\dots&\\mathbf{a}_{:,n}\\\\\n",
    "\\end{bmatrix} = \n",
    "\\begin{bmatrix} \n",
    "\\mathbf{q}_{:,1}^T\\\\\n",
    "\\mathbf{q}_{:,2}^T\\\\\n",
    "\\dots\\\\\n",
    "\\mathbf{q}_{:,n}^T\\\\\n",
    "\\end{bmatrix}  \\begin{bmatrix} \n",
    "\\mathbf{a}_{:,1}&\\mathbf{a}_{:,2}&\\dots&\\mathbf{a}_{:,n}\\\\\n",
    "\\end{bmatrix} = \n",
    " \\begin{bmatrix} \n",
    "\\mathbf{q}_{:,1}^T \\mathbf{a}_{:,1}& \\mathbf{q}_{:,1}^T \\mathbf{a}_{:,2}&\\dots& \\mathbf{q}_{:,1}^T \\mathbf{a}_{:,n} \\\\\n",
    " \\mathbf{q}_{:,2}^T \\mathbf{a}_{:,1} & \\mathbf{q}_{:,2}^T \\mathbf{a}_{:,2}&\\dots&  \\mathbf{q}_{:,2}^T \\mathbf{a}_{:,n} \\\\\n",
    "\\vdots&\\vdots&\\ddots&\\vdots& \\\\\n",
    " \\mathbf{q}_{:,n}^T \\mathbf{a}_{:,1} & \\mathbf{q}_{:,n}^T \\mathbf{a}_{:,2}&\\dots& \\mathbf{q}_{:,n}^T \\mathbf{a}_{:,n} \\\\\n",
    "\\end{bmatrix} =} \\\\\n",
    "&{= \n",
    "\\begin{bmatrix} \n",
    "\\mathbf{q}_{:,1}^T\\\\\n",
    "\\mathbf{q}_{:,2}^T\\\\\n",
    "\\dots\\\\\n",
    "\\mathbf{q}_{:,n}^T\\\\\n",
    "\\end{bmatrix}  \\begin{bmatrix} \n",
    "\\mathbf{a}_{:,1}&\\mathbf{a}_{:,2}&\\dots&\\mathbf{a}_{:,n}\\\\\n",
    "\\end{bmatrix} = \n",
    " \\begin{bmatrix} \n",
    "\\mathbf{q}_{:,1}^T \\mathbf{a}_{:,1}& \\mathbf{q}_{:,1}^T \\mathbf{a}_{:,2}&\\dots& \\mathbf{q}_{:,1}^T \\mathbf{a}_{:,n} \\\\\n",
    "0 & \\mathbf{q}_{:,2}^T \\mathbf{a}_{:,2}&\\dots&  \\mathbf{q}_{:,2}^T \\mathbf{a}_{:,n} \\\\\n",
    "\\vdots&\\vdots&\\ddots&\\vdots& \\\\\n",
    "0 & 0&\\dots& \\mathbf{q}_{:,n}^T \\mathbf{a}_{:,n} \\\\\n",
    "\\end{bmatrix}}\n",
    "\\end{align*}\n",
    "$$"
   ]
  },
  {
   "cell_type": "markdown",
   "metadata": {},
   "source": [
    "For all the dot products of $\\mathbf{q}_{:,i}^T \\mathbf{a}_{:,j}$ above and on the diagonal it's true that: \n",
    "$j >= i$, so from the \"point of view\" of column $i$ of the Q-matrix this column of $\\mathbf{A}$ have not been processed and orthogonalized yet. \n",
    "However, everything that's below the diagonal has $j < i$, so $\\mathbf{q}_{:,i}$ has already been made orthogonal to $\\mathbf{a}_{:,j}$, according to Gram-Schmidt process. "
   ]
  }
 ],
 "metadata": {
  "kernelspec": {
   "display_name": "Python [conda env:DAND]",
   "language": "python",
   "name": "conda-env-DAND-py"
  },
  "language_info": {
   "codemirror_mode": {
    "name": "ipython",
    "version": 3
   },
   "file_extension": ".py",
   "mimetype": "text/x-python",
   "name": "python",
   "nbconvert_exporter": "python",
   "pygments_lexer": "ipython3",
   "version": "3.7.1"
  }
 },
 "nbformat": 4,
 "nbformat_minor": 2
}
