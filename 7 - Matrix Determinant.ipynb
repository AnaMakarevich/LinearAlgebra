{
 "cells": [
  {
   "cell_type": "markdown",
   "metadata": {},
   "source": [
    "# Matrix Determinant"
   ]
  },
  {
   "cell_type": "markdown",
   "metadata": {},
   "source": [
    "This text and code is derived from Mike X Cohen's course on linear algebra. For more information, see https://www.udemy.com/linear-algebra-theory-and-implementation/?couponCode=LINALGPX7"
   ]
  },
  {
   "cell_type": "markdown",
   "metadata": {},
   "source": [
    "## 1. Key Concepts\n",
    "\n",
    "* Notation: $\\det(A)$, ${\\begin{vmatrix}\n",
    "a&b\\\\\n",
    "c&d\\\\\n",
    "\\end{vmatrix}} $, $|A|$  \n",
    "* Determinant is defined only for the square matrices!  \n",
    "* Determinant is a scalar that reflects the entire matrix  \n",
    "* If $det(A) = 0$, then the matrix is singular, non-invertible. **NOTE**: it's almost never used in practice. "
   ]
  },
  {
   "cell_type": "markdown",
   "metadata": {},
   "source": [
    "## 2. Determinant Applications\n",
    "\n",
    "**Geometry**: In geometry the determinant defines area/volume of the shape specified by coordinates in the matrix. For example, for the line the result will be 0. \n",
    "\n",
    "**Matrix Inverse**: When computing the inverse, as one of the steps, we need to calculate the determinant and then divide each element by it. "
   ]
  },
  {
   "cell_type": "markdown",
   "metadata": {},
   "source": [
    "## 3. Practical Issues\n",
    "Determinant should not be used to determine if the matrix is singular due to innacuracy. This can be illustrated by an example. \n",
    "\n",
    "Here is a *perfect* case, when we can actually compute the determinant by hand. The columns (as well as the rows) are linearly dependent, so the rank is 1 and we expect the determinant to be 0. "
   ]
  },
  {
   "cell_type": "code",
   "execution_count": 1,
   "metadata": {},
   "outputs": [
    {
     "data": {
      "text/plain": [
       "0.0"
      ]
     },
     "execution_count": 1,
     "metadata": {},
     "output_type": "execute_result"
    }
   ],
   "source": [
    "import numpy as np\n",
    "A = [[1,1],[2,2]]\n",
    "np.linalg.det(A)"
   ]
  },
  {
   "cell_type": "markdown",
   "metadata": {},
   "source": [
    "However, if we increase the number of dimensions, the determinant will be... not even close to zero. Here is an example:"
   ]
  },
  {
   "cell_type": "code",
   "execution_count": 7,
   "metadata": {},
   "outputs": [
    {
     "data": {
      "text/plain": [
       "21.720780050749045"
      ]
     },
     "execution_count": 7,
     "metadata": {},
     "output_type": "execute_result"
    }
   ],
   "source": [
    "# set the seed so that the result is reproducible\n",
    "np.random.seed(1)\n",
    "# generate a random 20x20 matrix\n",
    "C = np.random.randint(10,size=(20,20))\n",
    "# make the second column equal to the third so that we \n",
    "# have linear dependence (so the determinant should be 0 in theory)\n",
    "C[:,1] = C[:,2]\n",
    "np.linalg.det(C)"
   ]
  },
  {
   "cell_type": "markdown",
   "metadata": {},
   "source": [
    "The moral of the story is that in real life (when we have far more than 2 dimensions in the data) we should never use the determinant to judge about the matrix singularity. "
   ]
  },
  {
   "cell_type": "markdown",
   "metadata": {},
   "source": [
    "## 4. Determinant of a 2x2 Matrix"
   ]
  },
  {
   "cell_type": "markdown",
   "metadata": {},
   "source": [
    "$$det(A) = {\\begin{vmatrix}\n",
    "a&b\\\\\n",
    "c&d\\\\\n",
    "\\end{vmatrix}} = ad - bc$$"
   ]
  },
  {
   "cell_type": "markdown",
   "metadata": {},
   "source": [
    "## 5. Determinant of a 3x3 Matrix"
   ]
  },
  {
   "cell_type": "markdown",
   "metadata": {},
   "source": [
    "General rule: Sum the product of 3 right diagonals minus the sum of products of 3 left diagonals. When constructing the diagonals, imagine that they 'wrap' around, so each diagonal has 3 elements: "
   ]
  },
  {
   "cell_type": "markdown",
   "metadata": {},
   "source": [
    "$${\\begin{vmatrix}\n",
    "a&b&c\\\\\n",
    "d&e&f\\\\\n",
    "g&h&i\\\\\n",
    "\\end{vmatrix}} = (aei + bfg + cdg) - (ceg + bdi + afh) $$"
   ]
  },
  {
   "cell_type": "markdown",
   "metadata": {},
   "source": [
    "**NOTE** This procedure will **NOT** work for matrices of any other size. "
   ]
  },
  {
   "cell_type": "markdown",
   "metadata": {},
   "source": [
    "## 6. Determinant of a shifted matrix (Regularization)"
   ]
  },
  {
   "cell_type": "code",
   "execution_count": 9,
   "metadata": {},
   "outputs": [
    {
     "data": {
      "image/png": "[encoded data removed]",
      "text/plain": [
       "<Figure size 432x288 with 1 Axes>"
      ]
     },
     "metadata": {
      "needs_background": "light"
     },
     "output_type": "display_data"
    }
   ],
   "source": [
    "import numpy as np\n",
    "import matplotlib.pyplot as plt\n",
    "%matplotlib inline\n",
    "\n",
    "lambdas = np.linspace(0,0.1,30)\n",
    "\n",
    "def simulate(N, n_sims, lambdas):    \n",
    "    all_dets = np.empty(shape=(0,len(lambdas)))\n",
    "    for i in range(n_sims):\n",
    "        A = np.random.randn(N,N)\n",
    "        A[:,1] = A[:,2]        \n",
    "        dets = np.array([])\n",
    "        for l in lambdas:\n",
    "            C = A + l*np.eye(N)\n",
    "            det = abs(np.round(np.linalg.det(C),8))\n",
    "            dets = np.append(dets,det)\n",
    "        all_dets = np.vstack([all_dets, dets])\n",
    "    det_means =  all_dets.mean(axis=0)\n",
    "    return det_means\n",
    "\n",
    "for i in [4,10,20,30]:\n",
    "    y = simulate(N = i, n_sims = 3, lambdas = np.linspace(0,0.1,30))\n",
    "    plt.plot(np.linspace(0,0.1,30),y**(1/i), label=\"N=\"+str(i))\n",
    "plt.xlabel(\"Lambda\")\n",
    "plt.ylabel(\"Determinant (scaled abs)\")\n",
    "plt.legend()\n",
    "plt.show()"
   ]
  }
 ],
 "metadata": {
  "kernelspec": {
   "display_name": "Python [conda env:DAND]",
   "language": "python",
   "name": "conda-env-DAND-py"
  },
  "language_info": {
   "codemirror_mode": {
    "name": "ipython",
    "version": 3
   },
   "file_extension": ".py",
   "mimetype": "text/x-python",
   "name": "python",
   "nbconvert_exporter": "python",
   "pygments_lexer": "ipython3",
   "version": "3.7.1"
  }
 },
 "nbformat": 4,
 "nbformat_minor": 2
}
