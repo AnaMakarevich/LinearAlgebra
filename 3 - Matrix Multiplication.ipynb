{
 "cells": [
  {
   "cell_type": "markdown",
   "metadata": {},
   "source": [
    "# Cheatsheet 3. Matrices: Matrix Multiplication"
   ]
  },
  {
   "cell_type": "markdown",
   "metadata": {},
   "source": [
    "This code and text is derived from Mike X Cohen's course on linear algebra. For more information, see https://www.udemy.com/linear-algebra-theory-and-implementation/?couponCode=LINALGPX7  \n",
    "\n",
    "However: \n",
    "- Formulas in this particular cheatsheet added by me to enhance the material.   \n",
    "- Code for manual calculation of all 4 perspectives is written by me. \n",
    "- Covariance section was added by me"
   ]
  },
  {
   "cell_type": "markdown",
   "metadata": {},
   "source": [
    "# Table of contents\n",
    "- [Notation](#notation)  \n",
    "- [Matrix-matrix Multiplication: 4 perspectives](#matmat)\n",
    "    - [Element perspective](#element)\n",
    "    - [Layer Perspective](#layer)\n",
    "    - [Column Perspective](#column)\n",
    "    - [Row Perspective](#row)\n",
    "- [Multiplication with Diagonal Matrices](#diag)\n",
    "- [Order of Operations](#order)\n",
    "- [Matrix-Vector Multiplication](#matvec)  \n",
    "- [Covariance Matrix](#covariance)\n",
    "- [Hadamard Multiplication](#hadamard)  \n",
    "- [Frobenius Dot Product](#frobenius)\n",
    "- [Matrix Division](#division)"
   ]
  },
  {
   "cell_type": "markdown",
   "metadata": {},
   "source": [
    "<a id = \"notation\"></a>\n",
    "# Notation"
   ]
  },
  {
   "cell_type": "markdown",
   "metadata": {},
   "source": [
    "**Some terminology:**\n",
    "$A \\cdot B$ can be read as: \n",
    "- A left-multiplies B  \n",
    "- B right-multiplies A "
   ]
  },
  {
   "cell_type": "markdown",
   "metadata": {},
   "source": [
    "**Condition:** The number of columns in the first matrix should be equal to the number of rows in the scond matrix. E.g., if we have $\\mathbf{A} \\in R^{M \\times N}$ and $\\mathbf{B} \\in R^{K \\times L}$, then we can only multiply A by B if $N=K$. We can also say that **inner dimensions** should match. "
   ]
  },
  {
   "cell_type": "markdown",
   "metadata": {},
   "source": [
    "**Notation:**  \n",
    "In these notebooks I tried to enhance the course material by writing everything in a formal way in addition to examples. There is no standard notation for the matrix column, so I'm used one that I saw in several articles about maching learning:   \n",
    "- $A_{i,:}$ - i-th row \n",
    "- $A_{:,i}$ - i-th column  \n",
    "\n",
    "Other notation I've seen is $A_{i*}$ or $A_{i,*}$ for the row and $A_{*i}$ or $A_{*,i}$ for the column.\n",
    "\n",
    "\n",
    "**Other conventions (if other is not specified):**. \n",
    "- M - number of rows of matrix A\n",
    "- N - number of columns of matrix B\n",
    "- K - number of columns of matrix A, number of rows of matrix B"
   ]
  },
  {
   "cell_type": "markdown",
   "metadata": {},
   "source": [
    "<a id = \"matmat\"></a>\n",
    "# Matrix-matrix Multiplication: 4 perspectives"
   ]
  },
  {
   "cell_type": "markdown",
   "metadata": {},
   "source": [
    "Our test matrices: \n",
    "$$\\mathbf{A} = {\\begin{bmatrix}\n",
    "4&2&-7\\\\\n",
    "9&6&1\\\\\n",
    "7&3&7\\\\\n",
    "\\end{bmatrix}}, \\mathbf{B} = {\\begin{bmatrix}\n",
    "1&2&3\\\\\n",
    "4&7&2\\\\\n",
    "3&5&8\\\\\n",
    "\\end{bmatrix}}$$"
   ]
  },
  {
   "cell_type": "code",
   "execution_count": 82,
   "metadata": {},
   "outputs": [],
   "source": [
    "import numpy as np\n",
    "A = np.array([[4,2,-7],[9,6,1],[7,3,7]])\n",
    "B = np.array([[1,2,3],[4,7,2],[3,5,8]])"
   ]
  },
  {
   "cell_type": "code",
   "execution_count": 83,
   "metadata": {},
   "outputs": [
    {
     "data": {
      "text/plain": [
       "array([[ -9, -13, -40],\n",
       "       [ 36,  65,  47],\n",
       "       [ 40,  70,  83]])"
      ]
     },
     "execution_count": 83,
     "metadata": {},
     "output_type": "execute_result"
    }
   ],
   "source": [
    "C = np.dot(A,B)\n",
    "C"
   ]
  },
  {
   "cell_type": "markdown",
   "metadata": {},
   "source": [
    "<a id='element'></a>\n",
    "## Element perspective"
   ]
  },
  {
   "cell_type": "markdown",
   "metadata": {},
   "source": [
    "$$c_{ij} = \\sum_{k=1}^K a_{ik} b_{kj} = \\mathbf{A_{i,:}} \\cdot \\mathbf{B_{:,j}}$$\n",
    "Each element $c_{ij}$ is calculated by multiplying row $A_{i,:}$ by column $B_{:,j}$"
   ]
  },
  {
   "cell_type": "markdown",
   "metadata": {},
   "source": [
    "$${\\begin{bmatrix}\n",
    "0&1\\\\\n",
    "2&3\\\\\n",
    "\\end{bmatrix}} {\\begin{bmatrix}\n",
    "a&b\\\\\n",
    "c&d\\\\\n",
    "\\end{bmatrix}} = {\\begin{bmatrix}\n",
    "0a+1c&0b+1d\\\\\n",
    "2a+3c&2b+3d\\\\\n",
    "\\end{bmatrix}}$$"
   ]
  },
  {
   "cell_type": "markdown",
   "metadata": {},
   "source": [
    "Example:  \n",
    "Let's calculate manually one of the elements: say $c_{3,2}$, which should be equal to 35: "
   ]
  },
  {
   "cell_type": "code",
   "execution_count": 84,
   "metadata": {},
   "outputs": [],
   "source": [
    "C_elemwise = np.zeros((A.shape[0],B.shape[1]))\n",
    "for i in range(A.shape[0]):\n",
    "    for j in range(B.shape[1]):\n",
    "        C_elemwise[i,j] = np.dot(A[i,:],B[:,j])"
   ]
  },
  {
   "cell_type": "code",
   "execution_count": 85,
   "metadata": {},
   "outputs": [
    {
     "data": {
      "text/plain": [
       "array([[0., 0., 0.],\n",
       "       [0., 0., 0.],\n",
       "       [0., 0., 0.]])"
      ]
     },
     "execution_count": 85,
     "metadata": {},
     "output_type": "execute_result"
    }
   ],
   "source": [
    "# check the result\n",
    "C_elemwise-C"
   ]
  },
  {
   "cell_type": "markdown",
   "metadata": {},
   "source": [
    "<a id=\"layer\"></a>\n",
    "## Layer Perspective "
   ]
  },
  {
   "cell_type": "markdown",
   "metadata": {},
   "source": [
    "We can compute the matrix product layer by layer where each layer has rank 1. Unlinke in the element perspective, we multiply column $a_i$ by row $b_i$, which is an outer product. So essentialy our resulting matrix $\\mathbf{C}$ for $\\mathbf{A} \\cdot \\mathbf{B}$ is a sum of all outer products:\n",
    "$$\\mathbf{C} = \\sum_{i=1}^M \\mathbf{A}_{:,i} \\mathbf{B}_{i,:}$$"
   ]
  },
  {
   "cell_type": "markdown",
   "metadata": {},
   "source": [
    "$${\\begin{bmatrix}\n",
    "0&1\\\\\n",
    "2&3\\\\\n",
    "\\end{bmatrix}} {\\begin{bmatrix}\n",
    "a&b\\\\\n",
    "c&d\\\\\n",
    "\\end{bmatrix}} = {\\begin{bmatrix}\n",
    "0a&0b\\\\\n",
    "2a&2b\\\\\n",
    "\\end{bmatrix}}+  {\\begin{bmatrix}\n",
    "1c&1d\\\\\n",
    "3c&3d\\\\\n",
    "\\end{bmatrix}} = {\\begin{bmatrix}\n",
    "0a+1c&0b+1d\\\\\n",
    "2a+3c&2b+3d\\\\\n",
    "\\end{bmatrix}}$$"
   ]
  },
  {
   "cell_type": "markdown",
   "metadata": {},
   "source": [
    "In code: "
   ]
  },
  {
   "cell_type": "code",
   "execution_count": 86,
   "metadata": {},
   "outputs": [],
   "source": [
    "C_layered = np.zeros((A.shape[0],B.shape[1]))\n",
    "# for each column of A\n",
    "for i in range(A.shape[1]):\n",
    "    # compute outer product\n",
    "    C_layered += np.outer(A[:,i],B[i,:])"
   ]
  },
  {
   "cell_type": "code",
   "execution_count": 87,
   "metadata": {},
   "outputs": [
    {
     "data": {
      "text/plain": [
       "array([[0., 0., 0.],\n",
       "       [0., 0., 0.],\n",
       "       [0., 0., 0.]])"
      ]
     },
     "execution_count": 87,
     "metadata": {},
     "output_type": "execute_result"
    }
   ],
   "source": [
    "# check that matrices are the same\n",
    "C_layered-C"
   ]
  },
  {
   "cell_type": "markdown",
   "metadata": {},
   "source": [
    "<a id=\"column\"></a>\n",
    "## Column Perspective "
   ]
  },
  {
   "cell_type": "markdown",
   "metadata": {},
   "source": [
    "We can also define matrix multiplication as linear weighted **combination** of the **columns of the left matrix** where the **weights (or scalars to combine these columns) come from the right matrix**.  \n",
    "\n",
    "This perspective is very useful in machine learning and statistics. The columns of the left matrix are often used to store regressors, while the right matrix stores coefficients. "
   ]
  },
  {
   "cell_type": "markdown",
   "metadata": {},
   "source": [
    "To obtain the n-th column of the resulting matrix C we need to take the n-th column of matrix B and use it's elements as scalar multipliers for the corresponding columns of matrix A. So the n-th column of the resulting matrix $\\mathbf{C}$ for $\\mathbf{A} \\cdot \\mathbf{B}$ is the combination of the columns of the first matrix $\\mathbf{A}$ scaled by n-th column of the seconf matrix - $\\mathbf{B}$.  \n",
    "$$\\mathbf{C}_{:,n} = \\sum_{i=1}^K b_{i,n} \\mathbf{A}_{:,i}$$"
   ]
  },
  {
   "cell_type": "markdown",
   "metadata": {},
   "source": [
    "$${\\begin{bmatrix}\n",
    "0&1\\\\\n",
    "2&3\\\\\n",
    "\\end{bmatrix}} {\\begin{bmatrix}\n",
    "a&b\\\\\n",
    "c&d\\\\\n",
    "\\end{bmatrix}} = \n",
    "{\\begin{bmatrix}\n",
    "a{\\begin{bmatrix}\n",
    "0\\\\\n",
    "2\\\\\n",
    "\\end{bmatrix}} + c{\\begin{bmatrix}\n",
    "1\\\\\n",
    "3\\\\\n",
    "\\end{bmatrix}}& b{\\begin{bmatrix}\n",
    "0\\\\\n",
    "2\\\\\n",
    "\\end{bmatrix}} + d{\\begin{bmatrix}\n",
    "1\\\\\n",
    "3\\\\\n",
    "\\end{bmatrix}}\\\\\n",
    "\\end{bmatrix}}= {\\begin{bmatrix}\n",
    "0a+1c&0b+1d\\\\\n",
    "2a+3c&2b+3d\\\\\n",
    "\\end{bmatrix}}$$"
   ]
  },
  {
   "cell_type": "markdown",
   "metadata": {},
   "source": [
    "In code:"
   ]
  },
  {
   "cell_type": "code",
   "execution_count": 88,
   "metadata": {},
   "outputs": [],
   "source": [
    "C_column_perspective = []\n",
    "for j in range(B.shape[1]):\n",
    "    colj = B[:,j]\n",
    "    Cj = np.zeros(A.shape[0])\n",
    "    for i in range(B.shape[0]):\n",
    "        Cj += colj[i]*A[:,i]    \n",
    "    C_column_perspective.append(Cj)\n",
    "# in the end we need to transpose, since we've been appending columns to a list which is interpreted as rows\n",
    "C_column_perspective = np.transpose(C_column_perspective)"
   ]
  },
  {
   "cell_type": "code",
   "execution_count": 89,
   "metadata": {},
   "outputs": [
    {
     "data": {
      "text/plain": [
       "array([[0., 0., 0.],\n",
       "       [0., 0., 0.],\n",
       "       [0., 0., 0.]])"
      ]
     },
     "execution_count": 89,
     "metadata": {},
     "output_type": "execute_result"
    }
   ],
   "source": [
    "#check that the results are identical: \n",
    "C - C_column_perspective"
   ]
  },
  {
   "cell_type": "markdown",
   "metadata": {},
   "source": [
    "<a id=\"row\"></a>\n",
    "## Row Perspective "
   ]
  },
  {
   "cell_type": "markdown",
   "metadata": {},
   "source": [
    "In this case we scale rows of the second matrix by the rows of the first matrix. The n_th row of the resulting matrix $\\mathbf{C}$ for $\\mathbf{A} \\cdot \\mathbf{B}$ is then calculated as: \n",
    "$$\\mathbf{C}_{n,:} = \\sum_{i=1}^K a_{n,i} B_{n,:}$$"
   ]
  },
  {
   "cell_type": "markdown",
   "metadata": {},
   "source": [
    "$${\\begin{bmatrix}\n",
    "0&1\\\\\n",
    "2&3\\\\\n",
    "\\end{bmatrix}} {\\begin{bmatrix}\n",
    "a&b\\\\\n",
    "c&d\\\\\n",
    "\\end{bmatrix}} = \n",
    "{\\begin{bmatrix}\n",
    "0 {\\begin{bmatrix}\n",
    "a&b\\\\\n",
    "\\end{bmatrix}}+1 {\\begin{bmatrix}\n",
    "c&d\\\\\n",
    "\\end{bmatrix}}\\\\\n",
    "2 {\\begin{bmatrix}\n",
    "a&b\\\\\n",
    "\\end{bmatrix}}+3 {\\begin{bmatrix}\n",
    "c&d\\\\\n",
    "\\end{bmatrix}}\\\\\n",
    "\\end{bmatrix}}\n",
    "= {\\begin{bmatrix}\n",
    "0a+1c&0b+1d\\\\\n",
    "2a+3c&2b+3d\\\\\n",
    "\\end{bmatrix}}$$"
   ]
  },
  {
   "cell_type": "code",
   "execution_count": 90,
   "metadata": {},
   "outputs": [],
   "source": [
    "C_row_perspective = []\n",
    "for j in range(A.shape[0]):\n",
    "    rowj = A[j,:]\n",
    "    Cj = np.zeros(B.shape[1])\n",
    "    for i in range(A.shape[1]):\n",
    "        Cj+=rowj[i]*B[i,:]\n",
    "    C_row_perspective.append(Cj)"
   ]
  },
  {
   "cell_type": "code",
   "execution_count": 91,
   "metadata": {},
   "outputs": [
    {
     "data": {
      "text/plain": [
       "array([[0., 0., 0.],\n",
       "       [0., 0., 0.],\n",
       "       [0., 0., 0.]])"
      ]
     },
     "execution_count": 91,
     "metadata": {},
     "output_type": "execute_result"
    }
   ],
   "source": [
    "# check the result\n",
    "C_row_perspective-C"
   ]
  },
  {
   "cell_type": "markdown",
   "metadata": {},
   "source": [
    "<a id=\"diag\"></a>\n",
    "# Multiplication with Diagonal Matrices"
   ]
  },
  {
   "cell_type": "markdown",
   "metadata": {},
   "source": [
    "When we multiply by a diagonal matrix, we're essentially scaling the corresponding columns by the numbers on the diagonal. So the n-th column of the resulting matrix $\\mathbf{C}$ for $\\mathbf{A} \\cdot \\mathbf{D}$, where $\\mathbf{D}$ is the diagonal matrix: \n",
    "\n",
    "$$\\mathbf{C}_{:,n} = d_{n,n} \\mathbf{A}_{:,n}$$, "
   ]
  },
  {
   "cell_type": "markdown",
   "metadata": {},
   "source": [
    "$${\\begin{bmatrix}\n",
    "1&2&3\\\\\n",
    "4&5&6\\\\\n",
    "7&8&9\\\\\n",
    "\\end{bmatrix}}{\\begin{bmatrix}\n",
    "a&0&0\\\\\n",
    "0&b&0\\\\\n",
    "0&0&c\\\\\n",
    "\\end{bmatrix}}={\\begin{bmatrix}\n",
    "a1&b2&c3\\\\\n",
    "a4&b5&c6\\\\\n",
    "a7&b8&c9\\\\\n",
    "\\end{bmatrix}}$$"
   ]
  },
  {
   "cell_type": "markdown",
   "metadata": {},
   "source": [
    "It can be illustrated with the column perspective: \n",
    "\n",
    "$${\\begin{bmatrix}\n",
    "1&2&3\\\\\n",
    "4&5&6\\\\\n",
    "7&8&9\\\\\n",
    "\\end{bmatrix}}{\\begin{bmatrix}\n",
    "a&0&0\\\\\n",
    "0&b&0\\\\\n",
    "0&0&c\\\\\n",
    "\\end{bmatrix}}={\\begin{bmatrix}\n",
    "a{\\begin{bmatrix}\n",
    "1\\\\\n",
    "4\\\\\n",
    "7\\\\\n",
    "\\end{bmatrix}} + \\vec{0} + \\vec{0}& \\vec{0} + b{\\begin{bmatrix}\n",
    "2\\\\\n",
    "5\\\\\n",
    "8\\\\\n",
    "\\end{bmatrix}} +\\vec{0}&\n",
    "\\vec{0} + \\vec{0} + c{\\begin{bmatrix}\n",
    "3\\\\\n",
    "6\\\\\n",
    "9\\\\\n",
    "\\end{bmatrix}}\\\\\n",
    "\\end{bmatrix}}={\\begin{bmatrix}\n",
    "a{\\begin{bmatrix}\n",
    "1\\\\\n",
    "4\\\\\n",
    "7\\\\\n",
    "\\end{bmatrix}}& b{\\begin{bmatrix}\n",
    "2\\\\\n",
    "5\\\\\n",
    "8\\\\\n",
    "\\end{bmatrix}}&c{\\begin{bmatrix}\n",
    "3\\\\\n",
    "6\\\\\n",
    "9\\\\\n",
    "\\end{bmatrix}}\\\\\n",
    "\\end{bmatrix}}={\\begin{bmatrix}\n",
    "a1&b2&c3\\\\\n",
    "a4&b5&c6\\\\\n",
    "a7&b8&c9\\\\\n",
    "\\end{bmatrix}}$$"
   ]
  },
  {
   "cell_type": "markdown",
   "metadata": {},
   "source": [
    "If we change the order of multiplication (i.e. left-multiply by the diagonal matrix), then we will be scaling the rows rather than columns. For the resulting matrix $\\mathbf{C}$ for $\\mathbf{D} \\cdot \\mathbf{A}$, where $\\mathbf{D}$ is the diagonal matrix, it will look like this:  "
   ]
  },
  {
   "cell_type": "markdown",
   "metadata": {},
   "source": [
    "$$C_{n,:} = d_{n,n} A_{n,:}$$"
   ]
  },
  {
   "cell_type": "markdown",
   "metadata": {},
   "source": [
    "$${\\begin{bmatrix}\n",
    "a&0&0\\\\\n",
    "0&b&0\\\\\n",
    "0&0&c\\\\\n",
    "\\end{bmatrix}}{\\begin{bmatrix}\n",
    "1&2&3\\\\\n",
    "4&5&6\\\\\n",
    "7&8&9\\\\\n",
    "\\end{bmatrix}}={\\begin{bmatrix}\n",
    "a1&a2&a3\\\\\n",
    "b4&b5&b6\\\\\n",
    "c7&c8&c9\\\\\n",
    "\\end{bmatrix}}$$"
   ]
  },
  {
   "cell_type": "markdown",
   "metadata": {},
   "source": [
    "It can be illustrated with the row perspective: "
   ]
  },
  {
   "cell_type": "markdown",
   "metadata": {},
   "source": [
    "$${\\begin{bmatrix}\n",
    "a&0&0\\\\\n",
    "0&b&0\\\\\n",
    "0&0&c\\\\\n",
    "\\end{bmatrix}}{\\begin{bmatrix}\n",
    "1&2&3\\\\\n",
    "4&5&6\\\\\n",
    "7&8&9\\\\\n",
    "\\end{bmatrix}}={\\begin{bmatrix}\n",
    "a{\\begin{bmatrix}\n",
    "1&2&3\\\\\n",
    "\\end{bmatrix}} + \\vec{0} + \\vec{0}\\\\ \n",
    "\\vec{0} + b{\\begin{bmatrix}\n",
    "4&5&6\\\\\n",
    "\\end{bmatrix}} +\\vec{0}\\\\\n",
    "\\vec{0} + \\vec{0} + c{\\begin{bmatrix}\n",
    "7&8&9\\\\\n",
    "\\end{bmatrix}}\\\\\n",
    "\\end{bmatrix}}={\\begin{bmatrix}\n",
    "a{\\begin{bmatrix}\n",
    "1&2&3\\\\\n",
    "\\end{bmatrix}}\\\\ \n",
    "b{\\begin{bmatrix}\n",
    "4&5&6\\\\\n",
    "\\end{bmatrix}}\\\\\n",
    "c{\\begin{bmatrix}\n",
    "7&8&9\\\\\n",
    "\\end{bmatrix}}\\\\\n",
    "\\end{bmatrix}}={\\begin{bmatrix}\n",
    "a1&a2&a3\\\\\n",
    "b4&b5&b6\\\\\n",
    "c7&c8&c9\\\\\n",
    "\\end{bmatrix}}$$"
   ]
  },
  {
   "cell_type": "markdown",
   "metadata": {},
   "source": [
    "<a id=\"order\"></a>\n",
    "# Order of operations"
   ]
  },
  {
   "cell_type": "markdown",
   "metadata": {},
   "source": [
    "One of the most important rules for matrices: \n",
    "$$(\\mathbf{L}\\mathbf{I}\\mathbf{V}\\mathbf{E})^T = \\mathbf{E}^T\\mathbf{V}^T\\mathbf{I}^T\\mathbf{L}^T$$"
   ]
  },
  {
   "cell_type": "markdown",
   "metadata": {},
   "source": [
    "2D Proof: \n",
    "$$A = \\begin{bmatrix}\n",
    "a&b\\\\\n",
    "c&d\\\\\n",
    "\\end{bmatrix}, \n",
    "B = \\begin{bmatrix}\n",
    "e&f\\\\\n",
    "g&h\\\\\n",
    "\\end{bmatrix}$$"
   ]
  },
  {
   "cell_type": "markdown",
   "metadata": {},
   "source": [
    "$$\\Big(\\begin{bmatrix}\n",
    "a&b\\\\\n",
    "c&d\\\\\n",
    "\\end{bmatrix}\\begin{bmatrix}\n",
    "e&f\\\\\n",
    "g&h\\\\\n",
    "\\end{bmatrix}\\Big)^T = \n",
    "\\Big(\\begin{bmatrix}\n",
    "ae+bg&af + bh\\\\\n",
    "ce+dg&cf+dh\\\\\n",
    "\\end{bmatrix}\\Big)^T=\n",
    "\\begin{bmatrix}\n",
    "ae+bg&ce+dg\\\\\n",
    "af+bh&cf+dh\\\\\n",
    "\\end{bmatrix}$$\n",
    "\n",
    "OR: \n",
    "$$\n",
    "\\begin{bmatrix}\n",
    "e&g\\\\\n",
    "f&h\\\\\n",
    "\\end{bmatrix}\n",
    "\\begin{bmatrix}\n",
    "a&c\\\\\n",
    "b&d\\\\\n",
    "\\end{bmatrix}=\n",
    "\\begin{bmatrix}\n",
    "ae+bg&ce+dg\\\\\n",
    "af+bh&cf+dh\\\\\n",
    "\\end{bmatrix}\n",
    "$$"
   ]
  },
  {
   "cell_type": "markdown",
   "metadata": {},
   "source": [
    "<a id=\"matvec\"></a>\n",
    "# Matrix-vector Multiplication"
   ]
  },
  {
   "cell_type": "markdown",
   "metadata": {},
   "source": [
    "$\\mathbf{A} \\omega = v$ - produces a column vector ($\\mathbf{A}$ is $m \\times n$, $\\omega$ is $n \\times 1$, the result is $m \\times 1$).  \n",
    "$\\omega^T A = v$ - produces a row vector ($\\mathbf{A}$ is $m \\times n$, $\\omega$ is $n \\times 1$, the result is $1 \\times m$)."
   ]
  },
  {
   "cell_type": "markdown",
   "metadata": {},
   "source": [
    "## Special case: symmetric matrix\n",
    "For symmetric matrix it doesn't matter if we pre-multiply or post-multiply. The results will be identical (except for the type of vector, of course - i.e. column or row).  \n",
    "\n",
    "Let S be symmetric matrix:\n",
    "\n",
    "$$\\mathbf{S} \\omega = v$$\n",
    "\n",
    "Transpose both sides: \n",
    "\n",
    "$$(\\mathbf{S}\\omega)^T = v^T$$\n",
    "\n",
    "$$\\omega^T \\mathbf{S}^T = v^T$$\n",
    "\n",
    "And since $\\mathbf{S}$ is symmetric, we know that $\\mathbf{S}^T = \\mathbf{S}$, so: \n",
    "\n",
    "$$\\omega^T \\mathbf{S} = v^T$$"
   ]
  },
  {
   "cell_type": "markdown",
   "metadata": {},
   "source": [
    "We can say that $\\mathbf{S} \\omega$ produces the weighted combinations of the columns of $\\mathbf{S}$, while $\\omega^T \\mathbf{S}$ produces weighted combinations of the columns of $\\mathbf{S}$:"
   ]
  },
  {
   "cell_type": "markdown",
   "metadata": {},
   "source": [
    "$$\\mathbf{S} \\omega = \\begin{bmatrix}\n",
    "a&b\\\\\n",
    "b&c\\\\\n",
    "\\end{bmatrix}\n",
    "\\begin{bmatrix}\n",
    "1\\\\\n",
    "2\\\\\n",
    "\\end{bmatrix} = {\\begin{bmatrix}\n",
    "1{\\begin{bmatrix}\n",
    "a\\\\\n",
    "b\\\\\n",
    "\\end{bmatrix}} + 2{\\begin{bmatrix}\n",
    "b\\\\\n",
    "c\\\\\n",
    "\\end{bmatrix}}\\\\\n",
    "\\end{bmatrix}} = \\begin{bmatrix}\n",
    "a+2b\\\\\n",
    "b+2c\\\\\n",
    "\\end{bmatrix}$$\n",
    "\n",
    "$$\\omega^T \\mathbf{S}  = \\begin{bmatrix}\n",
    "1&2\\\\\n",
    "\\end{bmatrix} \\begin{bmatrix}\n",
    "a&b\\\\\n",
    "b&c\\\\\n",
    "\\end{bmatrix} = {\\begin{bmatrix}\n",
    "1{\\begin{bmatrix}\n",
    "a&b\\\\\n",
    "\\end{bmatrix}} + 2{\\begin{bmatrix}\n",
    "b&c\\\\\n",
    "\\end{bmatrix}}\\\\\n",
    "\\end{bmatrix}} = \\begin{bmatrix}\n",
    "a+2b&b+2c\\\\\n",
    "\\end{bmatrix}$$"
   ]
  },
  {
   "cell_type": "markdown",
   "metadata": {},
   "source": [
    "# 2D Transformation matrices"
   ]
  },
  {
   "cell_type": "markdown",
   "metadata": {},
   "source": [
    "When we left-multiply a vector by a matrix, we're transforming it. Normally, it changes both the size and it's orientation. Example: "
   ]
  },
  {
   "cell_type": "markdown",
   "metadata": {},
   "source": [
    "$$\\begin{bmatrix}\n",
    "2&-1\\\\\n",
    "1&3\\\\\n",
    "\\end{bmatrix}\\begin{bmatrix}\n",
    "2\\\\\n",
    "3\\\\ \n",
    "\\end{bmatrix} =\\begin{bmatrix}\n",
    "1\\\\\n",
    "11\\\\\n",
    "\\end{bmatrix}$$"
   ]
  },
  {
   "cell_type": "markdown",
   "metadata": {},
   "source": [
    "If we want to simply rotate the vector without chaning it's magnitude, we use the following transformation matrix: "
   ]
  },
  {
   "cell_type": "markdown",
   "metadata": {},
   "source": [
    "$$\\begin{bmatrix}\n",
    "\\cos(\\theta)&-\\sin(\\theta)\\\\\n",
    "\\sin(\\theta)&\\cos(\\theta)\\\\\n",
    "\\end{bmatrix}$$"
   ]
  },
  {
   "cell_type": "markdown",
   "metadata": {},
   "source": [
    "**Orthogonal matrix** - matrix, where all the columns are mutually orthogonal (the dot product is 0). "
   ]
  },
  {
   "cell_type": "markdown",
   "metadata": {},
   "source": [
    "## Special case: matrix that stretches but doesn't rotate"
   ]
  },
  {
   "cell_type": "markdown",
   "metadata": {},
   "source": [
    "$$\\begin{bmatrix}\n",
    "2&1\\\\\n",
    "2&3\\\\\n",
    "\\end{bmatrix}\\begin{bmatrix}\n",
    "1\\\\\n",
    "2\\\\ \n",
    "\\end{bmatrix} =\\begin{bmatrix}\n",
    "4\\\\\n",
    "8\\\\\n",
    "\\end{bmatrix}$$"
   ]
  },
  {
   "cell_type": "markdown",
   "metadata": {},
   "source": [
    "The resulting vector is just 4 times the initial vector: $\\begin{bmatrix}4\\\\8\\end{bmatrix} = 4 \\begin{bmatrix}1\\\\2\\end{bmatrix}$. \n",
    "\n",
    "This is **not** a property of that particual vector and this is **not** a property of that particular matrix. It's their combination that is special. The vector $\\begin{bmatrix}1\\\\2\\end{bmatrix}$ is called the **eigenvector**, and 4 is the **eigenvalue**.\n",
    "\n",
    "### Fundamental Eigenvalue Euqation \n",
    "\n",
    "$$\\mathbf{A} v = \\lambda v$$"
   ]
  },
  {
   "cell_type": "markdown",
   "metadata": {},
   "source": [
    "# Additive (0) and Multiplicative (I) Matrix Identities"
   ]
  },
  {
   "cell_type": "markdown",
   "metadata": {},
   "source": [
    "Multiplicative identity: \n",
    "\n",
    "$$\\mathbf{A} \\mathbf{I} = \\mathbf{I} \\mathbf{A} = \\mathbf{A}$$ \n",
    "\n",
    "$$\\mathbf{A} + \\mathbf{I} \\neq \\mathbf{A}$$\n",
    "\n",
    "Additive identity: \n",
    "\n",
    "$$\\mathbf{A} \\mathbf{0} = \\mathbf{0} \\mathbf{A} \\neq \\mathbf{A}$$ \n",
    "\n",
    "$$\\mathbf{A} + \\mathbf{0} = \\mathbf{A}$$"
   ]
  },
  {
   "cell_type": "markdown",
   "metadata": {},
   "source": [
    "## Additive and Multiplicative Symmetric Matrices"
   ]
  },
  {
   "cell_type": "markdown",
   "metadata": {},
   "source": [
    "We can generate a symmetric matrix using addition or multiplication. \n",
    "With addtion we can do it as follows (division by 2 is optional): \n",
    "\n",
    "$$(\\mathbf{A}+\\mathbf{A}^T)/2$$ \n",
    "\n",
    "\n",
    "$$\\mathbf{A}+\\mathbf{A}^T = \n",
    "\\begin{bmatrix}\n",
    "a&b&c\\\\\n",
    "d&e&f\\\\\n",
    "g&h&i\\\\\n",
    "\\end{bmatrix}+\\begin{bmatrix}\n",
    "a&e&g\\\\\n",
    "b&e&h\\\\\n",
    "c&f&i\\\\\n",
    "\\end{bmatrix} = \n",
    "\\begin{bmatrix}\n",
    "2a&b+d&c+g\\\\\n",
    "d+b&2e&f+h\\\\\n",
    "g+c&h+f&2i\\\\\n",
    "\\end{bmatrix}$$"
   ]
  },
  {
   "cell_type": "markdown",
   "metadata": {},
   "source": [
    "With multiplication we can obtain a symmetric matrix in the following ways:"
   ]
  },
  {
   "cell_type": "markdown",
   "metadata": {},
   "source": [
    "$$S = A^T A$$\n",
    "\n",
    "$$S = A A^T$$\n",
    "\n",
    "However, $A^T A \\neq A A^T$"
   ]
  },
  {
   "cell_type": "markdown",
   "metadata": {},
   "source": [
    "**Proof** that $A^T A$ is symmetric:"
   ]
  },
  {
   "cell_type": "markdown",
   "metadata": {},
   "source": [
    "$(A^T A)^T = A^T A^{TT} = A^T A \\implies A^T A$ is symmetric by definition."
   ]
  },
  {
   "cell_type": "markdown",
   "metadata": {},
   "source": [
    "The same can be shown for $A A^T: (A A^T)^T = A^{TT} A^T = A A^T \\implies A A^T$ is symmetric by definition."
   ]
  },
  {
   "cell_type": "markdown",
   "metadata": {},
   "source": [
    "<a id=\"covariance\"></a>\n",
    "# Covariance Matrix \n",
    "These operations are actually the basis for calulating the covariance matrix, which in its general form looks like that: \n",
    "\n",
    "$$\n",
    "S = \\begin{bmatrix}\n",
    "s_{1,1}^2&s_{1,2}&s_{1,3}&\\cdots&s_{1,p}\\\\\n",
    "s_{2,1}&s_{2,2}^2&s_{2,3}&\\cdots&s_{2,p}\\\\\n",
    "s_{3,1}&s_{3,2}&s_{3,3}^2&\\cdots&s_{3,p}\\\\\n",
    "\\vdots&\\vdots&\\vdots&\\ddots&\\vdots\\\\\n",
    "s_{p,1}&s_{p,2}&s_{p,3}&\\cdots&s_{p,p}^2\\\\\n",
    "\\end{bmatrix}\n",
    "$$\n",
    "\n",
    "Where each element is calculates as follows:  \n",
    "\n",
    "$$s_{j,j}^2 = \\frac{1}{n-1} \\sum_{i=1}^n (x_{i,j}-\\bar{x}_j)^2$$\n",
    "\n",
    "$$s_{j,k}^2 = \\frac{1}{n-1} \\sum_{i=1}^n (x_{i,j}-\\bar{x}_j)(y_{i,k}-\\bar{y}_k)$$\n",
    "\n",
    "With:\n",
    "- $s_{j,j}$ - variance of the j-th variable  \n",
    "- $s_{j,k}$ - covariance  \n",
    "- $\\bar{x}_j$ - mean of the j-th column. \n",
    "\n",
    "**Note:** (n-1) is because of the Bessel's correction\n"
   ]
  },
  {
   "cell_type": "markdown",
   "metadata": {},
   "source": [
    "Practical example and code:  \n",
    "Let's say, we have 5 observations and 3 features. So this will give us a $5 \\times 4$ matrix (because this is how this data is usually stored). We're looking for the covariance between the variables, which are in this case are our features. So the resulting covariance matrix should be $3 \\times 3$, as we have 3 such variables. Which means that we will have to transpose the matrix. \n",
    "\n",
    "Also, to be able to produce the above matrix, we want to calculate the mean for each variable (features) and subtract this mean from each varue of this feature - this will give us the matrix of deviations from the mean. And that we just have to multiply the transpose of the resulting matrix by the resulting matrix. "
   ]
  },
  {
   "cell_type": "code",
   "execution_count": 155,
   "metadata": {},
   "outputs": [
    {
     "data": {
      "text/plain": [
       "array([[2.2, 4.1, 9.1],\n",
       "       [3.3, 5.1, 8.8],\n",
       "       [1.8, 4.6, 8. ],\n",
       "       [2.5, 4.7, 9.3],\n",
       "       [2. , 4.6, 9. ]])"
      ]
     },
     "execution_count": 155,
     "metadata": {},
     "output_type": "execute_result"
    }
   ],
   "source": [
    "# sample matrix \n",
    "G = np.array([[2.2,4.1,9.1], [3.3,5.1,8.8], [1.8, 4.6, 8.0], [2.5, 4.7, 9.3], [2.0, 4.6, 9.0]])\n",
    "G"
   ]
  },
  {
   "cell_type": "code",
   "execution_count": 157,
   "metadata": {},
   "outputs": [
    {
     "data": {
      "text/plain": [
       "array([[-0.16, -0.52,  0.26],\n",
       "       [ 0.94,  0.48, -0.04],\n",
       "       [-0.56, -0.02, -0.84],\n",
       "       [ 0.14,  0.08,  0.46],\n",
       "       [-0.36, -0.02,  0.16]])"
      ]
     },
     "execution_count": 157,
     "metadata": {},
     "output_type": "execute_result"
    }
   ],
   "source": [
    "# subtracn the column means: \n",
    "M = G - G.mean(axis=0)\n",
    "M"
   ]
  },
  {
   "cell_type": "code",
   "execution_count": 173,
   "metadata": {},
   "outputs": [
    {
     "data": {
      "text/plain": [
       "array([[ 0.343 ,  0.141 ,  0.0995],\n",
       "       [ 0.141 ,  0.127 , -0.026 ],\n",
       "       [ 0.0995, -0.026 ,  0.253 ]])"
      ]
     },
     "execution_count": 173,
     "metadata": {},
     "output_type": "execute_result"
    }
   ],
   "source": [
    "# multiply and divide by n-1\n",
    "covG = np.dot(np.transpose(M),M)/(G.shape[0]-1)\n",
    "covG"
   ]
  },
  {
   "cell_type": "code",
   "execution_count": 176,
   "metadata": {},
   "outputs": [
    {
     "data": {
      "text/plain": [
       "array([[0., 0., 0.],\n",
       "       [0., 0., 0.],\n",
       "       [0., 0., 0.]])"
      ]
     },
     "execution_count": 176,
     "metadata": {},
     "output_type": "execute_result"
    }
   ],
   "source": [
    "# check the result, using the built-in numpy function:\n",
    "covG - np.cov(np.transpose(G))"
   ]
  },
  {
   "cell_type": "markdown",
   "metadata": {},
   "source": [
    "<a id=\"hadamard\"></a>\n",
    "# Hadamard (element-wise) Multiplication"
   ]
  },
  {
   "cell_type": "markdown",
   "metadata": {},
   "source": [
    "$$\\begin{bmatrix}\n",
    "1&2&3\\\\\n",
    "1&2&3\\\\\n",
    "1&2&3\\\\\n",
    "\\end{bmatrix} \n",
    "\\odot\n",
    "\\begin{bmatrix}\n",
    "a&b&c\\\\\n",
    "d&e&f\\\\\n",
    "g&h&i\\\\\n",
    "\\end{bmatrix} = \\begin{bmatrix}\n",
    "1a&2b&3c\\\\\n",
    "4d&5e&6f\\\\\n",
    "7g&8h&9i\\\\\n",
    "\\end{bmatrix}$$ "
   ]
  },
  {
   "cell_type": "markdown",
   "metadata": {},
   "source": [
    "Hadamard multiplication is associative and commutative: \n",
    "$$\\mathbf{A} \\odot \\mathbf{B} = \\mathbf{B} \\odot \\mathbf{A}$$\n",
    "$$ (\\mathbf{A} \\odot \\mathbf{B}) \\odot \\mathbf{C} = \\mathbf{A} \\odot (\\mathbf{B} \\odot \\mathbf{C})$$"
   ]
  },
  {
   "cell_type": "markdown",
   "metadata": {},
   "source": [
    "**Special case Multiplication of two symmetric matrices**"
   ]
  },
  {
   "cell_type": "markdown",
   "metadata": {},
   "source": [
    "Let's say we have two symmetric matrices - $S_1$, $S_2$. Generally, \n",
    "$S_1 \\cdot S_2$ is not symmetric. However, there is a special case for (and only for!) $2 \\times 2$ matrices when it is symmetric. It is symmetric if: $$\\text{diag} (S_1) = \\text{diag} (S_2)$$"
   ]
  },
  {
   "cell_type": "markdown",
   "metadata": {},
   "source": [
    "**Special case for diagonal matrices**  \n",
    "\n",
    "$$D_1 \\cdot D_2 = D_1 \\odot D_2$$"
   ]
  },
  {
   "cell_type": "markdown",
   "metadata": {},
   "source": [
    "Python example:"
   ]
  },
  {
   "cell_type": "code",
   "execution_count": 185,
   "metadata": {},
   "outputs": [],
   "source": [
    "Z = np.diag([1,2,3,17])\n",
    "F = np.diag([4,5,6,21])"
   ]
  },
  {
   "cell_type": "code",
   "execution_count": 188,
   "metadata": {},
   "outputs": [
    {
     "data": {
      "text/plain": [
       "array([[0, 0, 0, 0],\n",
       "       [0, 0, 0, 0],\n",
       "       [0, 0, 0, 0],\n",
       "       [0, 0, 0, 0]])"
      ]
     },
     "execution_count": 188,
     "metadata": {},
     "output_type": "execute_result"
    }
   ],
   "source": [
    "np.dot(Z,F)-Z*F"
   ]
  },
  {
   "cell_type": "markdown",
   "metadata": {},
   "source": [
    "<a id=\"frobenius\"></a>\n",
    "# Frobenius Dot Product"
   ]
  },
  {
   "cell_type": "markdown",
   "metadata": {},
   "source": [
    "There are 3 ways to calculate Frobenius dot product: \n",
    "\n",
    "### Method 1\n",
    "\n",
    "1. Hadamard multiplication \n",
    "2. Sum all elements\n",
    "\n",
    "$$<A,B>_F = \\sum_{i=1}^m \\sum_{j=1}^n a_{i,j} b_{i,j}$$\n",
    "\n",
    "In Python: "
   ]
  },
  {
   "cell_type": "code",
   "execution_count": 204,
   "metadata": {},
   "outputs": [
    {
     "data": {
      "text/plain": [
       "159"
      ]
     },
     "execution_count": 204,
     "metadata": {},
     "output_type": "execute_result"
    }
   ],
   "source": [
    "sum(sum(A*B))"
   ]
  },
  {
   "cell_type": "markdown",
   "metadata": {},
   "source": [
    "### Method 2  \n",
    "\n",
    "1. Vectorize (concatenate column by column into one vector)  \n",
    "2. Compute vector dot product  \n",
    "\n",
    "$$<A,B>_F = (\\text{vec}(A))^T(\\text{vec}(B))$$  \n",
    "\n",
    "In Python: "
   ]
  },
  {
   "cell_type": "code",
   "execution_count": 205,
   "metadata": {},
   "outputs": [
    {
     "data": {
      "text/plain": [
       "159"
      ]
     },
     "execution_count": 205,
     "metadata": {},
     "output_type": "execute_result"
    }
   ],
   "source": [
    "np.dot(A.flatten(),B.flatten())"
   ]
  },
  {
   "cell_type": "markdown",
   "metadata": {},
   "source": [
    "### Method 3 \n",
    "\n",
    "(this one is considered to be the most efficient)\n",
    "\n",
    "1. Mulitply matrices\n",
    "2. Take the trace \n",
    "\n",
    "$$\\text{tr}(A^T B)$$  \n",
    "\n",
    "In Python:"
   ]
  },
  {
   "cell_type": "code",
   "execution_count": 209,
   "metadata": {},
   "outputs": [
    {
     "data": {
      "text/plain": [
       "159"
      ]
     },
     "execution_count": 209,
     "metadata": {},
     "output_type": "execute_result"
    }
   ],
   "source": [
    "np.dot(np.transpose(A),B).trace()"
   ]
  },
  {
   "cell_type": "markdown",
   "metadata": {},
   "source": [
    "Numpy way: "
   ]
  },
  {
   "cell_type": "code",
   "execution_count": 229,
   "metadata": {},
   "outputs": [
    {
     "data": {
      "text/plain": [
       "159"
      ]
     },
     "execution_count": 229,
     "metadata": {},
     "output_type": "execute_result"
    }
   ],
   "source": [
    "np.tensordot(A,B).tolist()"
   ]
  },
  {
   "cell_type": "markdown",
   "metadata": {},
   "source": [
    "Frobenius dot product is used to calculate the Frobenius norm: \n",
    "\n",
    "$$\\text{norm}(A) = \\sqrt{\\sum_{i=1}^m \\sum_{j=1}^n a_{i,j}^2} = \\sqrt{<A,A>_F} = \\sqrt{\\text{tr}(A^T A)}$$"
   ]
  },
  {
   "cell_type": "markdown",
   "metadata": {},
   "source": [
    "In Numpy it can be done simply as: "
   ]
  },
  {
   "cell_type": "code",
   "execution_count": 231,
   "metadata": {},
   "outputs": [
    {
     "data": {
      "text/plain": [
       "17.146428199482248"
      ]
     },
     "execution_count": 231,
     "metadata": {},
     "output_type": "execute_result"
    }
   ],
   "source": [
    "np.linalg.norm(A)"
   ]
  },
  {
   "cell_type": "markdown",
   "metadata": {},
   "source": [
    "**Frobenius norm** is often used a measure of distance between matrices. "
   ]
  },
  {
   "cell_type": "markdown",
   "metadata": {},
   "source": [
    "<a id=\"division\"></a>\n",
    "# Matrix Division"
   ]
  },
  {
   "cell_type": "markdown",
   "metadata": {},
   "source": [
    "Matrix division as $\\frac{\\mathbf{A}}{\\mathbf{B}}$ doesn't exist. We can only talk about the inverse matrices - in this case division is the same as multiplying by the inverse matrix. \n",
    "Also, we can perform element-wise division (Hadamard division): \n",
    "$$\\begin{bmatrix}\n",
    "1&3&5\\\\\n",
    "2&1&5\\\\\n",
    "3&2&0\\\\\n",
    "\\end{bmatrix} \\oslash\n",
    "\\begin{bmatrix}\n",
    "2&3&1\\\\\n",
    "1&3&2\\\\\n",
    "3&4&5\\\\\n",
    "\\end{bmatrix}=\\begin{bmatrix}\n",
    "0.5&1&5\\\\\n",
    "2&0.33&2.5\\\\\n",
    "1.5&0.5&0\\\\\n",
    "\\end{bmatrix}$$"
   ]
  },
  {
   "cell_type": "markdown",
   "metadata": {},
   "source": [
    "In Python"
   ]
  },
  {
   "cell_type": "code",
   "execution_count": 234,
   "metadata": {},
   "outputs": [
    {
     "data": {
      "text/plain": [
       "array([[ 4.        ,  1.        , -2.33333333],\n",
       "       [ 2.25      ,  0.85714286,  0.5       ],\n",
       "       [ 2.33333333,  0.6       ,  0.875     ]])"
      ]
     },
     "execution_count": 234,
     "metadata": {},
     "output_type": "execute_result"
    }
   ],
   "source": [
    "A/B"
   ]
  },
  {
   "cell_type": "code",
   "execution_count": null,
   "metadata": {},
   "outputs": [],
   "source": []
  }
 ],
 "metadata": {
  "kernelspec": {
   "display_name": "Python [conda env:DAND]",
   "language": "python",
   "name": "conda-env-DAND-py"
  },
  "language_info": {
   "codemirror_mode": {
    "name": "ipython",
    "version": 3
   },
   "file_extension": ".py",
   "mimetype": "text/x-python",
   "name": "python",
   "nbconvert_exporter": "python",
   "pygments_lexer": "ipython3",
   "version": "3.7.1"
  }
 },
 "nbformat": 4,
 "nbformat_minor": 2
}
