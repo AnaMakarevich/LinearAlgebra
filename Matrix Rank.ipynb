{
 "cells": [
  {
   "cell_type": "markdown",
   "metadata": {},
   "source": [
    "# Matrix Rank\n",
    "\n",
    "This text and code is derived from Mike X Cohen's course on linear algebra. For more information, see https://www.udemy.com/linear-algebra-theory-and-implementation/?couponCode=LINALGPX7"
   ]
  },
  {
   "cell_type": "markdown",
   "metadata": {},
   "source": [
    "# Table of contents\n",
    "- [Terminology](#terms) \n",
    "- [Methods for Computing Rank](#methods)\n",
    "- [Potential Problems](#problems)\n",
    "- [Rank of Added and Multiplied Matrices](#addmult)\n",
    "- [Rank of $A^T A$ and $ A A^T$](#ata)\n",
    "- [Making a Matrix Full-rank by Shifting](#shift)\n",
    "- [Determining if a Vector is in the Span of a Set](#span)"
   ]
  },
  {
   "cell_type": "markdown",
   "metadata": {},
   "source": [
    "**Matrix Rank** - **single number** that tells us how much information is contained in the matrix, how much dimensions are encoded in the matrix. "
   ]
  },
  {
   "cell_type": "markdown",
   "metadata": {},
   "source": [
    "Notation:    \n",
    "$r$ or $\\text{rank}{(\\mathbf{A})}$, $r \\geq 0, r \\in \\mathbb{N}$"
   ]
  },
  {
   "cell_type": "markdown",
   "metadata": {},
   "source": [
    "For a $M \\times N$ matrix the rank is bounded by the smallest dimension:\n",
    "\n",
    "$$\\text{rank}(\\mathbf{A}) <= \\min(M,N)$$"
   ]
  },
  {
   "cell_type": "markdown",
   "metadata": {},
   "source": [
    "<a id = \"terms\"></a>\n",
    "## Terminology"
   ]
  },
  {
   "cell_type": "markdown",
   "metadata": {},
   "source": [
    "For an $M \\times M$ square matirx $\\mathbf{A}$, if $\\text{rank}{(\\mathbf{A})} = M$, it's a **FULL RANK MATRIX**."
   ]
  },
  {
   "cell_type": "markdown",
   "metadata": {},
   "source": [
    "For an $M \\times N$ matrix $\\mathbf{A}$ with $M > N$ (more rows than columns), if $\\text{rank}{(\\mathbf{A})} = N$, it's a **FULL COLUMN RANK MATRIX**."
   ]
  },
  {
   "cell_type": "markdown",
   "metadata": {},
   "source": [
    "For an $M \\times N$ matrix $\\mathbf{A}$ with $M < N$ (more columns than than), if $\\text{rank}{(\\mathbf{A})} = M$, it's a **FULL ROW RANK MATRIX**."
   ]
  },
  {
   "cell_type": "markdown",
   "metadata": {},
   "source": [
    "For an $M \\times N$ matrix $\\mathbf{A}$, if $\\text{rank}{(\\mathbf{A})} < \\min(M, N)$, it's **REDUCED RANK MATRIX** or **RANK DEFICIENT MATRIX** or **DEGENERATE MATRIX** or **LOW RANK MATRIX**.   \n",
    "If this is a case for a square matrix, then it's a **SINGULAR MATRIX**."
   ]
  },
  {
   "cell_type": "markdown",
   "metadata": {},
   "source": [
    "The **RANK** of a matrix is the number of linearly independent columns , which is the same thing is the number of linearly independent rows. "
   ]
  },
  {
   "cell_type": "markdown",
   "metadata": {},
   "source": [
    "<a id = \"methods\"></a>\n",
    "## Methods for Computing Rank"
   ]
  },
  {
   "cell_type": "markdown",
   "metadata": {},
   "source": [
    "<ol>\n",
    "<li>Compute the number of linearly independent columns:   \n",
    "    <ul>\n",
    "        <li> by visual inspection  </li>\n",
    "        <li> by applying methods used to solve systems of simultaneous linear equations  </li>\n",
    "    </ul>    \n",
    "    </li>    \n",
    "<li>Apply row reduction to reduce matrix to echelon form and count the number of pivots (non-efficient with large matrices) </li>\n",
    "    <li>Compute the SVD and count the number of non-zero singular values   </li>\n",
    "    <li>Compute the eigendecomposition and count the number of non-zero eigenvalues.   </li>\n",
    "<ol>"
   ]
  },
  {
   "cell_type": "markdown",
   "metadata": {},
   "source": [
    "<a id = \"problems\"></a>\n",
    "## Potential Problems"
   ]
  },
  {
   "cell_type": "markdown",
   "metadata": {},
   "source": [
    "### Computer rounding errors"
   ]
  },
  {
   "cell_type": "markdown",
   "metadata": {},
   "source": [
    "When using method 4 for computing eigenvalues, it's not likely that we will get absolute zeros, so the question is what is the threshold for saying that we consider a value to be zero.   \n",
    "\n",
    "To explore that a bit, I made an example. Let's say we have a $10 \\times 10$ matrix of rank 8: "
   ]
  },
  {
   "cell_type": "code",
   "execution_count": 2,
   "metadata": {},
   "outputs": [],
   "source": [
    "import numpy as np"
   ]
  },
  {
   "cell_type": "code",
   "execution_count": 3,
   "metadata": {},
   "outputs": [
    {
     "name": "stdout",
     "output_type": "stream",
     "text": [
      "Current rank: 10\n",
      "New rank: 8\n"
     ]
    }
   ],
   "source": [
    "np.random.seed(42)\n",
    "A = np.random.randint(-10,10,(10,10))\n",
    "print(\"Current rank: \" + str(np.linalg.matrix_rank(A)))\n",
    "A[:,1]=A[:,3]\n",
    "A[:,2]=A[:,3]\n",
    "print(\"New rank: \" + str(np.linalg.matrix_rank(A)))"
   ]
  },
  {
   "cell_type": "markdown",
   "metadata": {},
   "source": [
    "In this case, we expect that we have two zero eigenvalues (as described in method 4). And here is what we get: "
   ]
  },
  {
   "cell_type": "code",
   "execution_count": 4,
   "metadata": {},
   "outputs": [
    {
     "data": {
      "text/plain": [
       "array([-2.02802199e+01+0.j        ,  8.38070692e+00+9.53708533j,\n",
       "        8.38070692e+00-9.53708533j, -5.71886025e+00+9.52874321j,\n",
       "       -5.71886025e+00-9.52874321j,  1.81057986e+00+5.41584672j,\n",
       "        1.81057986e+00-5.41584672j, -6.64633119e-01+0.j        ,\n",
       "       -2.19322383e-14+0.j        ,  3.25233600e-15+0.j        ])"
      ]
     },
     "execution_count": 4,
     "metadata": {},
     "output_type": "execute_result"
    }
   ],
   "source": [
    "np.linalg.eigvals(A)"
   ]
  },
  {
   "cell_type": "markdown",
   "metadata": {},
   "source": [
    "Are -2.19322383e-14+0.j  and 3.25233600e-15+0.j zeros or not quite? \n",
    "As it has been said, the solution is setting a threshold.   \n",
    "However, it migh be hard to choose one. "
   ]
  },
  {
   "cell_type": "markdown",
   "metadata": {},
   "source": [
    "### Noise  "
   ]
  },
  {
   "cell_type": "markdown",
   "metadata": {},
   "source": [
    "In real-life applications, when a device is not calibrated perfectly, we can get noise in the data that might create an illusion that we have more dimensions encoded than we actually have. For example, we can think of the following matrix. In reality, it can be the case that rows 1 and 3 are linearly dependent, while because of the noise we still get a rank of 3: "
   ]
  },
  {
   "cell_type": "code",
   "execution_count": 5,
   "metadata": {},
   "outputs": [],
   "source": [
    "A = np.array([\n",
    "    [1,0,0],\n",
    "    [0,1,0],\n",
    "    [1,0.000001,0.000001]\n",
    "    \n",
    "])"
   ]
  },
  {
   "cell_type": "code",
   "execution_count": 6,
   "metadata": {},
   "outputs": [
    {
     "data": {
      "text/plain": [
       "3"
      ]
     },
     "execution_count": 6,
     "metadata": {},
     "output_type": "execute_result"
    }
   ],
   "source": [
    "np.linalg.matrix_rank(A.T)"
   ]
  },
  {
   "cell_type": "markdown",
   "metadata": {},
   "source": [
    "<a id = \"addmult\"></a>\n",
    "## Rank of Added and Multiplied Matrices"
   ]
  },
  {
   "cell_type": "markdown",
   "metadata": {},
   "source": [
    "We can't say for sure the rank of $\\mathbf{A}+\\mathbf{B}$ or $\\mathbf{A} \\mathbf{B}$, but we can set an upper boundary for it."
   ]
  },
  {
   "cell_type": "markdown",
   "metadata": {},
   "source": [
    "### Addition"
   ]
  },
  {
   "cell_type": "markdown",
   "metadata": {},
   "source": [
    "For matrices $\\mathbf{A} \\in \\mathbb{R}^{M \\times N}$ and $\\mathbf{B} \\in \\mathbb{R}^{M \\times N}$:\n",
    "\n",
    "$$\\text{rank} (\\mathbf{A} + \\mathbf{B}) \\leq \\text{rank} (\\mathbf{A})+\\text{rank} (\\mathbf{B})$$\n",
    "\n",
    "Obviously, it is still true that $\\text{rank} (\\mathbf{A})+\\text{rank} (\\mathbf{B}) \\leq \\min(M,N)$"
   ]
  },
  {
   "cell_type": "markdown",
   "metadata": {},
   "source": [
    "Rank is **invariant** to scalar multiplication: \n",
    "\n",
    "$$\\text{rank} (\\lambda \\mathbf{A}) = \\text{rank} (\\mathbf{A})$$\n",
    "\n",
    "$$\\text{rank} (\\lambda \\mathbf{A} + \\lambda \\mathbf{B}) = \\text{rank} (\\mathbf{A} + \\mathbf{B})$$"
   ]
  },
  {
   "cell_type": "markdown",
   "metadata": {},
   "source": [
    "**Example**. Rank 2 matrix is added to rank 1 matrix. The resulting matrix has rank 3: \n",
    "\n",
    "$${\\begin{bmatrix}\n",
    "1&2&0\\\\\n",
    "3&4&0\\\\\n",
    "5&9&0\\\\\n",
    "\\end{bmatrix}} +  {\\begin{bmatrix}\n",
    "0&0&5\\\\\n",
    "0&0&4\\\\\n",
    "0&0&1\\\\\n",
    "\\end{bmatrix}} = {\\begin{bmatrix}\n",
    "1&2&5\\\\\n",
    "3&4&4\\\\\n",
    "5&9&1\\\\\n",
    "\\end{bmatrix}}$$"
   ]
  },
  {
   "cell_type": "markdown",
   "metadata": {},
   "source": [
    "It's interesting to note that addition can also result in a **smaller rank** (e.g. one of the columns is zeroed out by cancellation) "
   ]
  },
  {
   "cell_type": "markdown",
   "metadata": {},
   "source": [
    "### Multiplication"
   ]
  },
  {
   "cell_type": "markdown",
   "metadata": {},
   "source": [
    "$$\\text{rank} (\\mathbf{A} \\mathbf{B}) \\leq \\min(\\text{rank} (\\mathbf{A}),\\text{rank} (\\mathbf{B}))$$"
   ]
  },
  {
   "cell_type": "markdown",
   "metadata": {},
   "source": [
    "**Example**. Rank 2 matrix is right-multiplied by rank 1 matrix. The resulting matrix has rank 1: \n",
    "\n",
    "\n",
    "\n",
    "$${\\begin{bmatrix}\n",
    "1&2&0\\\\\n",
    "3&4&0\\\\\n",
    "5&9&0\\\\\n",
    "\\end{bmatrix}} \\times  {\\begin{bmatrix}\n",
    "0&0&5\\\\\n",
    "0&0&4\\\\\n",
    "0&0&1\\\\\n",
    "\\end{bmatrix}} = {\\begin{bmatrix}\n",
    "0&0&13\\\\\n",
    "0&0&31\\\\\n",
    "0&0&61\\\\\n",
    "\\end{bmatrix}}$$"
   ]
  },
  {
   "cell_type": "markdown",
   "metadata": {},
   "source": [
    "**Proof:**  \n",
    "Let $\\mathbf{AB} = \\mathbf{C}$. We can represent it as: \n",
    "\n",
    "$$\\mathbf{A} b_j = c_j$$\n",
    "\n",
    "$c_j$ is a linear combination of columns (denoted as $b_j$) of $\\mathbf{A}$, so the subspace, spanned by C is **at most** the same as spanned by A. Also, if $c_j$ is all 0s, then one column is out. \n",
    "\n",
    "$\\implies \\text{rank}(\\mathbf{C}) \\leq \\text{rank}(\\mathbf{A})$.\n",
    "\n",
    "On the other hand, \n",
    "\n",
    "$a_i \\mathbf{B} = c_i$ (row combination), so the subspace spanned by C is **at most** the same as spanned by B. \n",
    "\n",
    "$\\implies  \\text{rank}(\\mathbf{C}) \\leq \\text{rank}(\\mathbf{B})$"
   ]
  },
  {
   "cell_type": "markdown",
   "metadata": {},
   "source": [
    "<a id = \"ata\"></a>\n",
    "## Rank of $A^T A$ and $ A A^T$"
   ]
  },
  {
   "cell_type": "markdown",
   "metadata": {},
   "source": [
    "$$\\text{rank}(\\mathbf{A}) = \\text{rank}(\\mathbf{A}^T \\mathbf{A}) = \\text{rank}(\\mathbf{A}^T) = \\text{rank}(\\mathbf{A} \\mathbf{A}^T)$$"
   ]
  },
  {
   "cell_type": "markdown",
   "metadata": {},
   "source": [
    "### Explanation 1  \n",
    "\n",
    "$$\\mathbf{A}^T \\mathbf{A} = \\mathbf{C}$$\n",
    "\n",
    "$\\mathbf{A}^T a_j = c_j$ - combination of columns\n",
    "\n",
    "Dimensionality is the same. Column $c_j$ is the combination of the columns of $\\mathbf{A}^T \\implies \\text{rank}(\\mathbf{C}) = \\text{rank}(\\mathbf{A}^T)$ "
   ]
  },
  {
   "cell_type": "markdown",
   "metadata": {},
   "source": [
    "### Explanation 2\n",
    "\n",
    "$\\mathbf{A} x = 0$ (x is in the nullspace of $\\mathbf{A}$). Now we left-multiply both sides by $\\mathbf{A}^T$:  \n",
    "\n",
    "$$\\mathbf{A}^T A x = 0$$\n",
    "\n",
    "$\\implies N(\\mathbf{A}) = N(\\mathbf{A}^T \\mathbf{A})$ (same nullspace!)  \n",
    "\n",
    "$\\implies dim(N(\\mathbf{A})) = dim(N(\\mathbf{A}^T \\mathbf{A}))$  \n",
    "\n",
    "$\\implies \\text{rank}(\\mathbf{A}) = \\text{rank} (\\mathbf{A}^T \\mathbf{A})$"
   ]
  },
  {
   "cell_type": "markdown",
   "metadata": {},
   "source": [
    "### Explanation 3 \n",
    "\n",
    "Singular value decomposition\n",
    "\n",
    "$$ A = \\mathbf{ U \\Sigma V^T}$$, where $\\Sigma$ is the diagonal matrix of eigenvalues. "
   ]
  },
  {
   "cell_type": "markdown",
   "metadata": {},
   "source": [
    "$\\mathbf(A^T A) = \\mathbf{( U \\Sigma V^T)}^T \\mathbf{ U \\Sigma V^T} = \\mathbf{V \\Sigma U^T U \\Sigma V^T} = \\mathbf{V \\Sigma^2 V^T}$\n",
    "\n",
    "Explanation: $\\mathbf{\\Sigma}$ is a diagonal matrix, so $\\mathbf{\\Sigma^T = \\Sigma}$. $\\mathbf{U}$ is upper triangular, so $\\mathbf{U^T U} = I$, that's why it disappears from the equation. "
   ]
  },
  {
   "cell_type": "markdown",
   "metadata": {},
   "source": [
    "Now we need to count the number of non-zero singular values whcih is the same for $\\Sigma$ and $\\Sigma^2$ (since it's a diagonal matrix). It also has the same eigenvalues (however, squared).\n",
    "\n",
    "$\\implies \\text{rank}(\\mathbf{A}) = \\text{rank} (\\mathbf{A^T A})$"
   ]
  },
  {
   "cell_type": "markdown",
   "metadata": {},
   "source": [
    "$\\mathbf{A^T A}$ is **guaranteed** to be full rank if $\\mathbf{A}$ is full rank."
   ]
  },
  {
   "cell_type": "markdown",
   "metadata": {},
   "source": [
    "**Example**. "
   ]
  },
  {
   "cell_type": "code",
   "execution_count": 7,
   "metadata": {},
   "outputs": [
    {
     "name": "stdout",
     "output_type": "stream",
     "text": [
      "Rank of A: 10\n",
      "Rank of AtA: 10\n"
     ]
    }
   ],
   "source": [
    "# set a sample matrix\n",
    "A = np.random.randint(-10,10,(10,10))\n",
    "print(\"Rank of A: \" + str(np.linalg.matrix_rank(A)))\n",
    "AtA = np.dot(np.transpose(A), A)\n",
    "print(\"Rank of AtA: \" + str(np.linalg.matrix_rank(AtA)))"
   ]
  },
  {
   "cell_type": "markdown",
   "metadata": {},
   "source": [
    "## Scalar Multiplication and Rank"
   ]
  },
  {
   "cell_type": "markdown",
   "metadata": {},
   "source": [
    "$$\\text{rank} (\\mathbf{A}) = \\text{rank} (\\lambda \\mathbf{A}), \\forall \\lambda \\neq 0$$"
   ]
  },
  {
   "cell_type": "markdown",
   "metadata": {},
   "source": [
    "<a id = \"shift\"></a>\n",
    "## Making a matrix full-rank by shifting"
   ]
  },
  {
   "cell_type": "markdown",
   "metadata": {},
   "source": [
    "Rank-deficient matrices are the most common in practies and we often need to transform such matrices somehow to make them full rank. It's typicall done by regularization: \n",
    "\n",
    "$$\\tilde {\\mathbf{A}} = \\mathbf{A} + \\lambda \\mathbf{I}$$\n",
    "\n",
    "If $\\mathbf{A}$ is square with reduced rank then we just add a fraction of identity matrix (that \"has information in each column\"): "
   ]
  },
  {
   "cell_type": "markdown",
   "metadata": {},
   "source": [
    "$${\\begin{bmatrix}\n",
    "1&1&4\\\\\n",
    "2&2&7\\\\\n",
    "3&3&11\\\\\n",
    "\\end{bmatrix}} + 0.001{\\begin{bmatrix}\n",
    "1&0&0\\\\\n",
    "0&1&0\\\\\n",
    "0&0&1\\\\\n",
    "\\end{bmatrix}} = \n",
    "{\\begin{bmatrix}\n",
    "1.001&1&4\\\\\n",
    "2&2.001&7\\\\\n",
    "3&3&11.001\\\\\n",
    "\\end{bmatrix}}$$ "
   ]
  },
  {
   "cell_type": "markdown",
   "metadata": {},
   "source": [
    "It's important to be carful with $\\lambda$. E.g., what if $\\mathbf{A} = -\\lambda \\mathbf{I}$? The goal is to make a matrix full-rank **without changing the information significantly!!!**. \n",
    "\n",
    "This technique is often called:   \n",
    "- regularization  \n",
    "- smoothing \n",
    "- inflating "
   ]
  },
  {
   "cell_type": "markdown",
   "metadata": {},
   "source": [
    "<a id=\"span\"></a>\n",
    "## Determining if a vector is in the span of a set\n",
    "\n",
    "Let's say we have a vector $v$ and two sets: $S$ and $T$ and we need to define whether v is in their span.\n",
    "\n",
    "Here is what I used to solve it. If a vector is in the span, then we can at least say that: \n",
    "- it can be \"constructed\" from the vectors in the set\n",
    "- if we add it to the set, then the rank of the matrix, constructed of these vectors, will remain the same. \n",
    "\n",
    "So to check if it's in the span the easiest way is as follows: \n",
    "- construct a matrix from the set  \n",
    "- calculate the rank of this matrix\n",
    "- augment this matrix with the new vector  \n",
    "- calculate the rank of the augmented matrix  \n",
    "- compare the two ranks: if they are equal, then the vector is in the span"
   ]
  },
  {
   "cell_type": "code",
   "execution_count": 10,
   "metadata": {},
   "outputs": [],
   "source": [
    "# sample vector\n",
    "v = np.array([1,2,3,4])\n",
    "# sample sets as matrices\n",
    "S = np.array([[4,3,6,2], [0,4,0,1]])\n",
    "T = np.array([[1,2,2,2], [0,0,1,2]])\n",
    "\n",
    "# construct augmented matrices: \n",
    "Sandv = np.append(S,v).reshape(3,4).T\n",
    "Tandv = np.append(T,v).reshape(3,4).T"
   ]
  },
  {
   "cell_type": "code",
   "execution_count": 12,
   "metadata": {},
   "outputs": [
    {
     "name": "stdout",
     "output_type": "stream",
     "text": [
      "False\n",
      "True\n"
     ]
    }
   ],
   "source": [
    "# test if ranks are equal\n",
    "print(np.linalg.matrix_rank(S) == np.linalg.matrix_rank(Sandv)) # False -> not in the span\n",
    "print(np.linalg.matrix_rank(T) == np.linalg.matrix_rank(Tandv)) # True -> in the span"
   ]
  }
 ],
 "metadata": {
  "kernelspec": {
   "display_name": "Python [conda env:DAND]",
   "language": "python",
   "name": "conda-env-DAND-py"
  },
  "language_info": {
   "codemirror_mode": {
    "name": "ipython",
    "version": 3
   },
   "file_extension": ".py",
   "mimetype": "text/x-python",
   "name": "python",
   "nbconvert_exporter": "python",
   "pygments_lexer": "ipython3",
   "version": "3.7.1"
  }
 },
 "nbformat": 4,
 "nbformat_minor": 2
}
