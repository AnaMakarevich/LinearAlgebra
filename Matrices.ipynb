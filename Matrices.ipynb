{
 "cells": [
  {
   "cell_type": "markdown",
   "metadata": {},
   "source": [
    "# Cheatsheet 2. Matrices\n",
    "This code and text is derived from Mike X Cohen's course on linear algebra. For more information, see https://www.udemy.com/linear-algebra-theory-and-implementation/?couponCode=LINALGPX7\n",
    "\n",
    "## Table of contents \n",
    "- [Matrix Dimensionality](#dim)\n",
    "- [Some Special Matrices](#specialmat)"
   ]
  },
  {
   "cell_type": "markdown",
   "metadata": {},
   "source": [
    "A matrix is typically denoted as bold capital letter - e.g. **A**. Matirx element is usually denoted as $a_{i,j}$, where i - row number, j - column number. "
   ]
  },
  {
   "cell_type": "markdown",
   "metadata": {},
   "source": [
    "Below is an example of a block matrix, where each elements represents a matrix, too:\n",
    "\n",
    "$$\\mathbf{A} = {\\begin{bmatrix}\n",
    "D&0\\\\\n",
    "1&D\\\\\n",
    "\\end{bmatrix}}$$\n",
    "\n",
    "with D being some matrix, 0 being all zeros matrix, 1 being all ones matrix. $\\mathbf{A}$ can be expanded, for example, in the following way: \n",
    "\n",
    "$$\\mathbf{A} = {\\begin{bmatrix}\n",
    "6&0&0&0\\\\\n",
    "0&5&0&0\\\\\n",
    "1&1&6&0\\\\\n",
    "1&1&0&5\\\\\n",
    "\\end{bmatrix}}$$"
   ]
  },
  {
   "cell_type": "markdown",
   "metadata": {},
   "source": [
    "**Important:** when talking about matrices we alway first refer to rows and then to columns. So, $M \\times N$ matrix has M rows and N columns. "
   ]
  },
  {
   "cell_type": "markdown",
   "metadata": {},
   "source": [
    "<a id=\"dim\"></a>\n",
    "## Matrix Dimensionality"
   ]
  },
  {
   "cell_type": "markdown",
   "metadata": {},
   "source": [
    "There are several interpretation for that. For the $M \\times N$ matrix we can have the following interpretations:  \n",
    "- v1) Dimensionality is the total number of elemtns, so it's $R^{MN}$. \n",
    "- v2) Dimensionality is the space of the matrix, so $R^{M \\times N}$.   \n",
    "- v3) It's the columns space of the matrix: $C(A) \\in R^{M}$. Columns space is the sapce spanned by column vectors of the matrix.  \n",
    "- v4) It's the row space of the matrix: $R(A) \\in R^N$.   \n",
    "\n",
    "All these approaches are correct and we can use any in different situations.  \n"
   ]
  },
  {
   "cell_type": "markdown",
   "metadata": {},
   "source": [
    "<a id=\"specialmat\"></a>\n",
    "## Some special matrices"
   ]
  },
  {
   "cell_type": "markdown",
   "metadata": {},
   "source": [
    "### Square matrix\n",
    "An M by M matrix, number of rows is equal to the number of columns.  \n",
    "\n",
    "### Rectangular matrix \n",
    "An M by N matrix, $M \\neq N$. \n",
    "\n",
    "### Symmetric matrix  \n",
    "A matrix $\\mathbf{A}$ such that $\\mathbf{A}^T = \\mathbf{A}$\n",
    "\n",
    "$$\\mathbf{A} = {\\begin{bmatrix}\n",
    "1&-8&0\\\\\n",
    "-8&-4&9\\\\\n",
    "0&9&5\\\\\n",
    "\\end{bmatrix}}$$\n",
    "\n",
    "### Skew-symmetric matrix \n",
    "A matrix $\\mathbf{A}$ such that $\\mathbf{A}^T = -\\mathbf{A}$ \n",
    "This matrix **always** has 0s on the diagonal, since it's the only number for which $x = -x$ is true.   \n",
    "$$\\mathbf{A} = {\\begin{bmatrix}\n",
    "0&2&-7\\\\\n",
    "-2&0&-3\\\\\n",
    "7&3&0\\\\\n",
    "\\end{bmatrix}}$$\n",
    "\n",
    "### Identity matrix \n",
    "A matrix will all 1s on the diagonal and all 0s off the diagonal. Identity matrix is the equvalient of scalar 1 for matrices. Identity matrix is **always square** and always symmetric. \n",
    "\n",
    "$$\\mathbf{I}_4 = {\\begin{bmatrix}\n",
    "1&0&0&0\\\\\n",
    "0&1&0&0\\\\\n",
    "0&0&1&0\\\\\n",
    "0&0&0&1\\\\\n",
    "\\end{bmatrix}}$$\n",
    "\n",
    "### Zero matrix \n",
    "Matrix of all zeros. Equivalent of scalar 0 for matrices.  \n",
    "\n",
    "### Diagonal matrix \n",
    "A matrix, where all off-diagonal elements are 0. So, identity matrix is a special case of the diagonal matrix. However, diagonal matrix is not necessarily square! The following matrices are both considered to be diagonal: \n",
    "$$\\mathbf{D}_1 = {\\begin{bmatrix}\n",
    "1&0&0\\\\\n",
    "0&4&0\\\\\n",
    "0&0&7\\\\\n",
    "\\end{bmatrix}},\n",
    "\\mathbf{D}_2 = {\\begin{bmatrix}\n",
    "\\pi&0&0&0\\\\\n",
    "0&0&0&0\\\\\n",
    "0&0&5&0\\\\\n",
    "\\end{bmatrix}}$$   \n",
    "\n",
    "### Triangular matrices \n",
    "#### Upper triangular \n",
    "\n",
    "$$\\mathbf{U} = {\\begin{bmatrix}\n",
    "1&3&8\\\\\n",
    "0&7&4\\\\\n",
    "0&0&-5\\\\\n",
    "\\end{bmatrix}}$$\n",
    "\n",
    "#### Lower triangular \n",
    "\n",
    "$$\\mathbf{L} = {\\begin{bmatrix}\n",
    "7&0&0&0\\\\\n",
    "3&6&0&0\\\\\n",
    "5&5&4&0\\\\\n",
    "1&1&3&9\\\\\n",
    "\\end{bmatrix}}$$ \n",
    "\n",
    "### Augmented matrix \n",
    "A matrix that concatenates two matrices. Often used for solving systems of linear equations.  \n",
    "\n",
    "$$\\mathbf{A} = {\\begin{bmatrix}\n",
    "1&2&3\\\\\n",
    "4&7&2\\\\\n",
    "3&5&8\\\\\n",
    "\\end{bmatrix}} \\sqcup {\\begin{bmatrix}\n",
    "8&4\\\\\n",
    "8&3\\\\\n",
    "7&1\\\\\n",
    "\\end{bmatrix}} =   \\left[\\begin{array}{rrr|rr}\n",
    "    1 & 2 & 3 & 8 & 4 \\\\\n",
    "    4 & 7 & 2 & 8 & 3 \\\\\n",
    "    4 & 5 & 8 & 7 & 1 \\\\\n",
    "  \\end{array}\\right]$$ "
   ]
  },
  {
   "cell_type": "markdown",
   "metadata": {},
   "source": [
    "## Addition and Subtraction  \n",
    "\n",
    "$$\\mathbf{A}+\\mathbf{B} = \\mathbf{B}+\\mathbf{A}$$\n",
    "$$\\mathbf{A} + (\\mathbf{B}+\\mathbf{C}) = (\\mathbf{A}+\\mathbf{B}) + \\mathbf{C}$$\n",
    "\n",
    "Example of shifting a matrix away from degeneracy: \n",
    "$$\\begin{bmatrix}\n",
    "2&4\\\\\n",
    "3&6\\\\\n",
    "\\end{bmatrix} + 2 \\begin{bmatrix}\n",
    "1&0\\\\\n",
    "0&1\\\\\n",
    "\\end{bmatrix} = \\begin{bmatrix}\n",
    "4&4\\\\\n",
    "3&8\\\\\n",
    "\\end{bmatrix}$$"
   ]
  },
  {
   "cell_type": "markdown",
   "metadata": {},
   "source": [
    "## Matrix-Scalar Multiplication"
   ]
  },
  {
   "attachments": {},
   "cell_type": "markdown",
   "metadata": {},
   "source": [
    "$$\\lambda \\begin{bmatrix}\n",
    "a&b\\\\\n",
    "c&d\\\\\n",
    "\\end{bmatrix} = \\begin{bmatrix}\n",
    "{\\lambda 4}&{\\lambda 4}\\\\\n",
    "{\\lambda 3}&{\\lambda 8}\\\\\n",
    "\\end{bmatrix}$$"
   ]
  },
  {
   "cell_type": "markdown",
   "metadata": {},
   "source": [
    "Matrix-Scalar Multiplication is symmetric and commutative: "
   ]
  },
  {
   "cell_type": "markdown",
   "metadata": {},
   "source": [
    "$$\\lambda \\mathbf{A} \\mathbf{B} = \\mathbf{A} \\lambda \\mathbf{B} = \\mathbf{A} \\mathbf{B} \\lambda$$ \n",
    "\n",
    "It's also a linear operation which means that it's closed under addition and scalar multiplication:  \n",
    "$$\\lambda (\\mathbf{A}+\\mathbf{B}) = \\lambda \\mathbf{A} + \\lambda \\mathbf{B}$$"
   ]
  },
  {
   "cell_type": "markdown",
   "metadata": {},
   "source": [
    "## Diagonal and trace"
   ]
  },
  {
   "cell_type": "markdown",
   "metadata": {},
   "source": [
    "Trace - sum of all the elements on the diagonal. Used, for example, in eigendecomposition to calculate the distance between the matrices. Trace is defined only for square matrices! \n",
    "Diagonal, however, exists for rectangular matrices, as well."
   ]
  },
  {
   "cell_type": "markdown",
   "metadata": {},
   "source": [
    "$$\\text{diag} \\Big(\\begin{bmatrix}\n",
    "1&2&3\\\\\n",
    "4&7&2\\\\\n",
    "3&5&8\\\\\n",
    "\\end{bmatrix}\\Big) = \\begin{bmatrix}\n",
    "1\\\\\n",
    "7\\\\\n",
    "8\\\\\n",
    "\\end{bmatrix} $$ \n",
    "\n",
    "$$\\text{diag} \\Big(\\begin{bmatrix}\n",
    "1&2\\\\\n",
    "4&7\\\\\n",
    "3&5\\\\\n",
    "\\end{bmatrix}\\Big) = \\begin{bmatrix}\n",
    "1\\\\\n",
    "7\\\\\n",
    "\\end{bmatrix} $$ "
   ]
  },
  {
   "cell_type": "markdown",
   "metadata": {},
   "source": [
    "Trace is a linear operator - closed under addition and scalar multiplication: \n",
    "\n",
    "\n",
    "**Addition**\n",
    "\n",
    "\n",
    "$$\\text{tr} (\\mathbf{A}+\\mathbf{B}) = \\text{tr}(\\mathbf{A}) + \\text{tr}(\\mathbf{B})$$\n",
    "\n",
    "**Proof:** \n",
    "\n",
    "Let $\\mathbf{A} = \\begin{bmatrix}\n",
    "a&b\\\\\n",
    "c&d\\\\\n",
    "\\end{bmatrix}$ and $B = \\begin{bmatrix}\n",
    "k&l\\\\\n",
    "m&n\\\\\n",
    "\\end{bmatrix}$\n",
    "\n",
    "Then: \n",
    "\n",
    "$$\\text{tr} (\\mathbf{A}+\\mathbf{B}) = \\text{tr}(\\begin{bmatrix}\n",
    "a&b\\\\\n",
    "c&d\\\\\n",
    "\\end{bmatrix}+\\begin{bmatrix}\n",
    "k&l\\\\\n",
    "m&n\\\\\n",
    "\\end{bmatrix} = \\begin{bmatrix}\n",
    "a+k&b+l\\\\\n",
    "c+m&d+n\\\\\n",
    "\\end{bmatrix} = a+k+d+n$$\n",
    "\n",
    "$$\\text{tr}(\\mathbf{A}) + \\text{tr}(\\mathbf{B}) = \\text{tr}(\\begin{bmatrix}\n",
    "a&b\\\\\n",
    "c&d\\\\\n",
    "\\end{bmatrix}) + tr(\\begin{bmatrix}\n",
    "k&l\\\\\n",
    "m&n\\\\\n",
    "\\end{bmatrix}) = a+d+k+n = a + k +d + n$$\n",
    "\n",
    "$$a+k+d+n = a+k+d+n$$\n"
   ]
  },
  {
   "cell_type": "markdown",
   "metadata": {},
   "source": [
    "**Scalar multiplication** \n",
    "$$\\text{tr} (\\lambda \\mathbf{A}) = \\lambda \\text{tr}(\\mathbf{A})$$\n",
    "\n",
    "**Proof:**\n",
    "\n",
    "$$\\text{tr} (\\lambda \\mathbf{A}) = \\text{tr}( \\lambda \\begin{bmatrix}\n",
    "a&b\\\\\n",
    "c&d\\\\\n",
    "\\end{bmatrix}) = \\text{tr}(\\begin{bmatrix}\n",
    "\\lambda a & \\lambda b\\\\\n",
    "\\lambda c & \\lambda d\\\\\n",
    "\\end{bmatrix}) = \\lambda a + \\lambda d = \\lambda (a+d)$$\n",
    "\n",
    "$$ \\lambda \\text{tr} (\\mathbf{A}) = \\lambda \\text{tr}(\\begin{bmatrix}\n",
    "a&b\\\\\n",
    "c&d\\\\\n",
    "\\end{bmatrix}) = \\lambda (a + d)$$\n",
    "\n",
    "$$\\lambda (a+d) = \\lambda (a+d)$$"
   ]
  },
  {
   "cell_type": "code",
   "execution_count": null,
   "metadata": {},
   "outputs": [],
   "source": []
  }
 ],
 "metadata": {
  "kernelspec": {
   "display_name": "Python [conda env:root]",
   "language": "python",
   "name": "conda-root-py"
  },
  "language_info": {
   "codemirror_mode": {
    "name": "ipython",
    "version": 3
   },
   "file_extension": ".py",
   "mimetype": "text/x-python",
   "name": "python",
   "nbconvert_exporter": "python",
   "pygments_lexer": "ipython3",
   "version": "3.6.6"
  }
 },
 "nbformat": 4,
 "nbformat_minor": 2
}
